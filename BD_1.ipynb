{
 "cells": [
  {
   "cell_type": "markdown",
   "metadata": {},
   "source": [
    "# B&D DS Exercise Part 1\n",
    "## January 30th, 2018\n",
    "### Dr Jose M Albornoz"
   ]
  },
  {
   "cell_type": "markdown",
   "metadata": {},
   "source": [
    "# Import necessary modules"
   ]
  },
  {
   "cell_type": "code",
   "execution_count": 2,
   "metadata": {},
   "outputs": [],
   "source": [
    "import pandas as pd\n",
    "import re\n",
    "import matplotlib.pyplot as plt\n",
    "from matplotlib import style\n",
    "style.use('fivethirtyeight')\n",
    "%matplotlib inline\n",
    "\n",
    "import numpy as np\n",
    "import seaborn as sns\n",
    "\n",
    "RANDOM_STATE = 801"
   ]
  },
  {
   "cell_type": "markdown",
   "metadata": {},
   "source": [
    "# 1 Load data"
   ]
  },
  {
   "cell_type": "code",
   "execution_count": 3,
   "metadata": {},
   "outputs": [],
   "source": [
    "df_0 = pd.read_excel('kohls.xls')"
   ]
  },
  {
   "cell_type": "code",
   "execution_count": 4,
   "metadata": {},
   "outputs": [
    {
     "data": {
      "text/html": [
       "<div>\n",
       "<style>\n",
       "    .dataframe thead tr:only-child th {\n",
       "        text-align: right;\n",
       "    }\n",
       "\n",
       "    .dataframe thead th {\n",
       "        text-align: left;\n",
       "    }\n",
       "\n",
       "    .dataframe tbody tr th {\n",
       "        vertical-align: top;\n",
       "    }\n",
       "</style>\n",
       "<table border=\"1\" class=\"dataframe\">\n",
       "  <thead>\n",
       "    <tr style=\"text-align: right;\">\n",
       "      <th></th>\n",
       "      <th>SHIPPER</th>\n",
       "      <th>SHIPPER ADDRESS</th>\n",
       "      <th>CONSIGNEE</th>\n",
       "      <th>CONSIGNEE ADDRESS</th>\n",
       "      <th>ZIPCODE</th>\n",
       "      <th>NOTIFY</th>\n",
       "      <th>NOTIFY ADDRESS</th>\n",
       "      <th>BILL OF LADING</th>\n",
       "      <th>ARRIVAL DATE</th>\n",
       "      <th>WEIGHT (LB)</th>\n",
       "      <th>...</th>\n",
       "      <th>DISTRIBUTION PORT</th>\n",
       "      <th>HOUSE vs MASTER</th>\n",
       "      <th>MASTER B/L</th>\n",
       "      <th>CARRIER CODE</th>\n",
       "      <th>CARRIER NAME</th>\n",
       "      <th>CARRIER ADDRESS</th>\n",
       "      <th>CARRIER CITY</th>\n",
       "      <th>CARRIER STATE</th>\n",
       "      <th>CARRIER ZIP</th>\n",
       "      <th>PLACE OF RECEIPT</th>\n",
       "    </tr>\n",
       "  </thead>\n",
       "  <tbody>\n",
       "    <tr>\n",
       "      <th>0</th>\n",
       "      <td>CONTINENTAL CONAIR LIMITED</td>\n",
       "      <td>. 35 F.,STANDARD CHARTERED TOWER, MILLENNIUM C...</td>\n",
       "      <td>CONAIR CORPORATION</td>\n",
       "      <td>. 150 MILFORD ROAD EAST WINDSOR NJ 08520 U.S.A .</td>\n",
       "      <td>8520</td>\n",
       "      <td>CONAIR CORPORATION</td>\n",
       "      <td>. 150 MILFORD ROAD EAST WINDSOR NJ 08520 U.S.A .</td>\n",
       "      <td>HJSCHKG3B5123700</td>\n",
       "      <td>2013-10-07</td>\n",
       "      <td>18876.0</td>\n",
       "      <td>...</td>\n",
       "      <td>Philadelphia, Pennsylvania</td>\n",
       "      <td></td>\n",
       "      <td></td>\n",
       "      <td>HJSC</td>\n",
       "      <td>HANJIN SHIPPING COMPANY LTD</td>\n",
       "      <td>80 EAST RT 4 SUITE 490</td>\n",
       "      <td>PARAMUS</td>\n",
       "      <td>NJ</td>\n",
       "      <td>7652</td>\n",
       "      <td>YANTIAN,GUANGDONG</td>\n",
       "    </tr>\n",
       "    <tr>\n",
       "      <th>1</th>\n",
       "      <td>DHL ISC (HONG KONG) LIMITED</td>\n",
       "      <td>O/B:PUTIAN ANGOLAOD OUTDOOR GOODS CO., LTD LIY...</td>\n",
       "      <td>STONEWALL TRADING COMPANY LP</td>\n",
       "      <td>844 MORAGA DRIVE LOS ANGELES,CA 90049 TEL:310-...</td>\n",
       "      <td>0</td>\n",
       "      <td>FED-EX TRADE NETWORK.TRANSPORT &amp;STONEWALL TRAD...</td>\n",
       "      <td>BROKERAGE(TOWER GROUP)19601844 MORAGA DRIVE LO...</td>\n",
       "      <td>EGLV146300505161</td>\n",
       "      <td>2013-10-07</td>\n",
       "      <td>7772.6</td>\n",
       "      <td>...</td>\n",
       "      <td></td>\n",
       "      <td></td>\n",
       "      <td></td>\n",
       "      <td>EGLV</td>\n",
       "      <td>EVERGREEN LINE</td>\n",
       "      <td>NO 163 SEC 1 HSIN-NAN ROAD LUCHU HSIAN</td>\n",
       "      <td>TAOYUAN HSIEN 338</td>\n",
       "      <td></td>\n",
       "      <td></td>\n",
       "      <td>XIAMEN, CHINA</td>\n",
       "    </tr>\n",
       "    <tr>\n",
       "      <th>2</th>\n",
       "      <td>HUGE WAY INTERNATIONAL CO LTD</td>\n",
       "      <td>SEC 2 HIS AN ST PEI TOU DIST</td>\n",
       "      <td>STONEWALL TRADING COMPANY</td>\n",
       "      <td>5900 RODEO RD LOS ANGELES 0</td>\n",
       "      <td>0</td>\n",
       "      <td>STONEWALL TRADING COMPANY</td>\n",
       "      <td>5900 RODEO RD LOS ANGELES</td>\n",
       "      <td>DMALNGB291543</td>\n",
       "      <td>2013-10-07</td>\n",
       "      <td>1894.2</td>\n",
       "      <td>...</td>\n",
       "      <td></td>\n",
       "      <td>H</td>\n",
       "      <td>NYKS2335539080</td>\n",
       "      <td>DMAL</td>\n",
       "      <td>DANMAR LINES LTD</td>\n",
       "      <td>33 WASHINGTON ST - 14TH FL</td>\n",
       "      <td>NEWARK</td>\n",
       "      <td>NJ</td>\n",
       "      <td>7102</td>\n",
       "      <td>NINGBO</td>\n",
       "    </tr>\n",
       "    <tr>\n",
       "      <th>3</th>\n",
       "      <td>ZHEJIANG WUYU APPAREL CO.LTD</td>\n",
       "      <td>YUANJI ROAD NO.6 ECONOMIC DEVELOPMENT ZONE ZHE...</td>\n",
       "      <td>EXCELLED SHEEPSKIN AND LEATHER</td>\n",
       "      <td>COAT CORPORATION 1400 BROADWAY 31ST FLOOR NEW ...</td>\n",
       "      <td>10018</td>\n",
       "      <td>EXCELLED SHEEPSKIN AND LEATHER</td>\n",
       "      <td>COAT CORPORATION 1400 BROADWAY 31ST FLOOR NEW ...</td>\n",
       "      <td>EURFL13907135LAX</td>\n",
       "      <td>2013-10-07</td>\n",
       "      <td>2257.2</td>\n",
       "      <td>...</td>\n",
       "      <td></td>\n",
       "      <td>H</td>\n",
       "      <td>NYKS2372251610</td>\n",
       "      <td>EURF</td>\n",
       "      <td>EURASIA EXPRESS</td>\n",
       "      <td>11222 LA CIENEGA BLVD - #220</td>\n",
       "      <td>INGLEWOOD</td>\n",
       "      <td>CA</td>\n",
       "      <td>90304</td>\n",
       "      <td>SHANGHAI, CHINA</td>\n",
       "    </tr>\n",
       "    <tr>\n",
       "      <th>4</th>\n",
       "      <td>DAMCO CHINA LIMITED SHANGHAI BRANCH</td>\n",
       "      <td>O B YANGZHOU TIANMAO SHOES MAKING CO LTD NO 36...</td>\n",
       "      <td>WOLVERINE WORLD WIDE, INC.</td>\n",
       "      <td>9341 COURTLAND DRIVE ROCKFORD MI 49351 EIN 38-...</td>\n",
       "      <td>0</td>\n",
       "      <td>WOLVERINE WORLD WIDE, INC.</td>\n",
       "      <td>9341 COURTLAND DRIVE ROCKFORD MI 49351 SHIPPIN...</td>\n",
       "      <td>KKLUSH5621783</td>\n",
       "      <td>2013-10-06</td>\n",
       "      <td>123272.6</td>\n",
       "      <td>...</td>\n",
       "      <td></td>\n",
       "      <td></td>\n",
       "      <td></td>\n",
       "      <td>KKLU</td>\n",
       "      <td>KAWASAKI KISEN KAISHA LTD</td>\n",
       "      <td></td>\n",
       "      <td>TOKYO</td>\n",
       "      <td></td>\n",
       "      <td></td>\n",
       "      <td>SHANGHAI</td>\n",
       "    </tr>\n",
       "    <tr>\n",
       "      <th>5</th>\n",
       "      <td>-NOT AVAILABLE-</td>\n",
       "      <td></td>\n",
       "      <td>-NOT AVAILABLE-</td>\n",
       "      <td></td>\n",
       "      <td>0</td>\n",
       "      <td>ALAB WHEELS UP INTERNATIONAL INC</td>\n",
       "      <td>11222 LA CIENEGA BOULEVARD SUITE 678 INGLEWOOD...</td>\n",
       "      <td>FTPAN47713B</td>\n",
       "      <td>2013-10-05</td>\n",
       "      <td>17833.2</td>\n",
       "      <td>...</td>\n",
       "      <td></td>\n",
       "      <td>H</td>\n",
       "      <td>EGLV143382951379</td>\n",
       "      <td>FTPA</td>\n",
       "      <td>FASTIC TRANSPORTATION CO LTD</td>\n",
       "      <td>12F-1 NO 171 SEC 4 NANJING EAST RD</td>\n",
       "      <td>TAIPEI</td>\n",
       "      <td></td>\n",
       "      <td></td>\n",
       "      <td>NINGBO</td>\n",
       "    </tr>\n",
       "    <tr>\n",
       "      <th>6</th>\n",
       "      <td>-NOT AVAILABLE-</td>\n",
       "      <td></td>\n",
       "      <td>-NOT AVAILABLE-</td>\n",
       "      <td></td>\n",
       "      <td>0</td>\n",
       "      <td></td>\n",
       "      <td></td>\n",
       "      <td>EXDO610351181</td>\n",
       "      <td>2013-10-04</td>\n",
       "      <td>5361.4</td>\n",
       "      <td>...</td>\n",
       "      <td></td>\n",
       "      <td>H</td>\n",
       "      <td>HLCUCG2130808634</td>\n",
       "      <td>EXDO</td>\n",
       "      <td>EXPEDITORS INTERNATIONAL OF WASHINGTON INC</td>\n",
       "      <td>1015 THIRD AVE - 12TH FL</td>\n",
       "      <td>SEATTLE</td>\n",
       "      <td>WA</td>\n",
       "      <td>98104-1190</td>\n",
       "      <td>CHITTAGONG</td>\n",
       "    </tr>\n",
       "    <tr>\n",
       "      <th>7</th>\n",
       "      <td>-NOT AVAILABLE-</td>\n",
       "      <td></td>\n",
       "      <td>-NOT AVAILABLE-</td>\n",
       "      <td></td>\n",
       "      <td>0</td>\n",
       "      <td></td>\n",
       "      <td></td>\n",
       "      <td>EXDO610351182</td>\n",
       "      <td>2013-10-04</td>\n",
       "      <td>23883.2</td>\n",
       "      <td>...</td>\n",
       "      <td></td>\n",
       "      <td>H</td>\n",
       "      <td>HLCUCG2130808634</td>\n",
       "      <td>EXDO</td>\n",
       "      <td>EXPEDITORS INTERNATIONAL OF WASHINGTON INC</td>\n",
       "      <td>1015 THIRD AVE - 12TH FL</td>\n",
       "      <td>SEATTLE</td>\n",
       "      <td>WA</td>\n",
       "      <td>98104-1190</td>\n",
       "      <td>CHITTAGONG</td>\n",
       "    </tr>\n",
       "    <tr>\n",
       "      <th>8</th>\n",
       "      <td>-NOT AVAILABLE-</td>\n",
       "      <td></td>\n",
       "      <td>-NOT AVAILABLE-</td>\n",
       "      <td></td>\n",
       "      <td>0</td>\n",
       "      <td></td>\n",
       "      <td></td>\n",
       "      <td>EXDO610351183</td>\n",
       "      <td>2013-10-04</td>\n",
       "      <td>4800.4</td>\n",
       "      <td>...</td>\n",
       "      <td></td>\n",
       "      <td>H</td>\n",
       "      <td>HLCUCG2130808634</td>\n",
       "      <td>EXDO</td>\n",
       "      <td>EXPEDITORS INTERNATIONAL OF WASHINGTON INC</td>\n",
       "      <td>1015 THIRD AVE - 12TH FL</td>\n",
       "      <td>SEATTLE</td>\n",
       "      <td>WA</td>\n",
       "      <td>98104-1190</td>\n",
       "      <td>CHITTAGONG</td>\n",
       "    </tr>\n",
       "    <tr>\n",
       "      <th>9</th>\n",
       "      <td>-NOT AVAILABLE-</td>\n",
       "      <td></td>\n",
       "      <td>-NOT AVAILABLE-</td>\n",
       "      <td></td>\n",
       "      <td>0</td>\n",
       "      <td></td>\n",
       "      <td></td>\n",
       "      <td>EXDO610351184</td>\n",
       "      <td>2013-10-04</td>\n",
       "      <td>2963.4</td>\n",
       "      <td>...</td>\n",
       "      <td></td>\n",
       "      <td>H</td>\n",
       "      <td>HLCUCG2130808634</td>\n",
       "      <td>EXDO</td>\n",
       "      <td>EXPEDITORS INTERNATIONAL OF WASHINGTON INC</td>\n",
       "      <td>1015 THIRD AVE - 12TH FL</td>\n",
       "      <td>SEATTLE</td>\n",
       "      <td>WA</td>\n",
       "      <td>98104-1190</td>\n",
       "      <td>CHITTAGONG</td>\n",
       "    </tr>\n",
       "  </tbody>\n",
       "</table>\n",
       "<p>10 rows × 34 columns</p>\n",
       "</div>"
      ],
      "text/plain": [
       "                               SHIPPER  \\\n",
       "0           CONTINENTAL CONAIR LIMITED   \n",
       "1          DHL ISC (HONG KONG) LIMITED   \n",
       "2        HUGE WAY INTERNATIONAL CO LTD   \n",
       "3         ZHEJIANG WUYU APPAREL CO.LTD   \n",
       "4  DAMCO CHINA LIMITED SHANGHAI BRANCH   \n",
       "5                      -NOT AVAILABLE-   \n",
       "6                      -NOT AVAILABLE-   \n",
       "7                      -NOT AVAILABLE-   \n",
       "8                      -NOT AVAILABLE-   \n",
       "9                      -NOT AVAILABLE-   \n",
       "\n",
       "                                     SHIPPER ADDRESS  \\\n",
       "0  . 35 F.,STANDARD CHARTERED TOWER, MILLENNIUM C...   \n",
       "1  O/B:PUTIAN ANGOLAOD OUTDOOR GOODS CO., LTD LIY...   \n",
       "2                       SEC 2 HIS AN ST PEI TOU DIST   \n",
       "3  YUANJI ROAD NO.6 ECONOMIC DEVELOPMENT ZONE ZHE...   \n",
       "4  O B YANGZHOU TIANMAO SHOES MAKING CO LTD NO 36...   \n",
       "5                                                      \n",
       "6                                                      \n",
       "7                                                      \n",
       "8                                                      \n",
       "9                                                      \n",
       "\n",
       "                        CONSIGNEE  \\\n",
       "0              CONAIR CORPORATION   \n",
       "1    STONEWALL TRADING COMPANY LP   \n",
       "2       STONEWALL TRADING COMPANY   \n",
       "3  EXCELLED SHEEPSKIN AND LEATHER   \n",
       "4      WOLVERINE WORLD WIDE, INC.   \n",
       "5                 -NOT AVAILABLE-   \n",
       "6                 -NOT AVAILABLE-   \n",
       "7                 -NOT AVAILABLE-   \n",
       "8                 -NOT AVAILABLE-   \n",
       "9                 -NOT AVAILABLE-   \n",
       "\n",
       "                                   CONSIGNEE ADDRESS  ZIPCODE  \\\n",
       "0   . 150 MILFORD ROAD EAST WINDSOR NJ 08520 U.S.A .     8520   \n",
       "1  844 MORAGA DRIVE LOS ANGELES,CA 90049 TEL:310-...        0   \n",
       "2                        5900 RODEO RD LOS ANGELES 0        0   \n",
       "3  COAT CORPORATION 1400 BROADWAY 31ST FLOOR NEW ...    10018   \n",
       "4  9341 COURTLAND DRIVE ROCKFORD MI 49351 EIN 38-...        0   \n",
       "5                                                           0   \n",
       "6                                                           0   \n",
       "7                                                           0   \n",
       "8                                                           0   \n",
       "9                                                           0   \n",
       "\n",
       "                                              NOTIFY  \\\n",
       "0                                 CONAIR CORPORATION   \n",
       "1  FED-EX TRADE NETWORK.TRANSPORT &STONEWALL TRAD...   \n",
       "2                          STONEWALL TRADING COMPANY   \n",
       "3                     EXCELLED SHEEPSKIN AND LEATHER   \n",
       "4                         WOLVERINE WORLD WIDE, INC.   \n",
       "5                   ALAB WHEELS UP INTERNATIONAL INC   \n",
       "6                                                      \n",
       "7                                                      \n",
       "8                                                      \n",
       "9                                                      \n",
       "\n",
       "                                      NOTIFY ADDRESS    BILL OF LADING  \\\n",
       "0   . 150 MILFORD ROAD EAST WINDSOR NJ 08520 U.S.A .  HJSCHKG3B5123700   \n",
       "1  BROKERAGE(TOWER GROUP)19601844 MORAGA DRIVE LO...  EGLV146300505161   \n",
       "2                          5900 RODEO RD LOS ANGELES     DMALNGB291543   \n",
       "3  COAT CORPORATION 1400 BROADWAY 31ST FLOOR NEW ...  EURFL13907135LAX   \n",
       "4  9341 COURTLAND DRIVE ROCKFORD MI 49351 SHIPPIN...     KKLUSH5621783   \n",
       "5  11222 LA CIENEGA BOULEVARD SUITE 678 INGLEWOOD...       FTPAN47713B   \n",
       "6                                                        EXDO610351181   \n",
       "7                                                        EXDO610351182   \n",
       "8                                                        EXDO610351183   \n",
       "9                                                        EXDO610351184   \n",
       "\n",
       "  ARRIVAL DATE  WEIGHT (LB)        ...                   DISTRIBUTION PORT  \\\n",
       "0   2013-10-07      18876.0        ...          Philadelphia, Pennsylvania   \n",
       "1   2013-10-07       7772.6        ...                                       \n",
       "2   2013-10-07       1894.2        ...                                       \n",
       "3   2013-10-07       2257.2        ...                                       \n",
       "4   2013-10-06     123272.6        ...                                       \n",
       "5   2013-10-05      17833.2        ...                                       \n",
       "6   2013-10-04       5361.4        ...                                       \n",
       "7   2013-10-04      23883.2        ...                                       \n",
       "8   2013-10-04       4800.4        ...                                       \n",
       "9   2013-10-04       2963.4        ...                                       \n",
       "\n",
       "  HOUSE vs MASTER        MASTER B/L  CARRIER CODE  \\\n",
       "0                                            HJSC   \n",
       "1                                            EGLV   \n",
       "2               H    NYKS2335539080          DMAL   \n",
       "3               H    NYKS2372251610          EURF   \n",
       "4                                            KKLU   \n",
       "5               H  EGLV143382951379          FTPA   \n",
       "6               H  HLCUCG2130808634          EXDO   \n",
       "7               H  HLCUCG2130808634          EXDO   \n",
       "8               H  HLCUCG2130808634          EXDO   \n",
       "9               H  HLCUCG2130808634          EXDO   \n",
       "\n",
       "                                 CARRIER NAME  \\\n",
       "0                 HANJIN SHIPPING COMPANY LTD   \n",
       "1                              EVERGREEN LINE   \n",
       "2                            DANMAR LINES LTD   \n",
       "3                             EURASIA EXPRESS   \n",
       "4                   KAWASAKI KISEN KAISHA LTD   \n",
       "5                FASTIC TRANSPORTATION CO LTD   \n",
       "6  EXPEDITORS INTERNATIONAL OF WASHINGTON INC   \n",
       "7  EXPEDITORS INTERNATIONAL OF WASHINGTON INC   \n",
       "8  EXPEDITORS INTERNATIONAL OF WASHINGTON INC   \n",
       "9  EXPEDITORS INTERNATIONAL OF WASHINGTON INC   \n",
       "\n",
       "                          CARRIER ADDRESS       CARRIER CITY CARRIER STATE  \\\n",
       "0                  80 EAST RT 4 SUITE 490            PARAMUS            NJ   \n",
       "1  NO 163 SEC 1 HSIN-NAN ROAD LUCHU HSIAN  TAOYUAN HSIEN 338                 \n",
       "2              33 WASHINGTON ST - 14TH FL             NEWARK            NJ   \n",
       "3            11222 LA CIENEGA BLVD - #220          INGLEWOOD            CA   \n",
       "4                                                      TOKYO                 \n",
       "5      12F-1 NO 171 SEC 4 NANJING EAST RD             TAIPEI                 \n",
       "6                1015 THIRD AVE - 12TH FL            SEATTLE            WA   \n",
       "7                1015 THIRD AVE - 12TH FL            SEATTLE            WA   \n",
       "8                1015 THIRD AVE - 12TH FL            SEATTLE            WA   \n",
       "9                1015 THIRD AVE - 12TH FL            SEATTLE            WA   \n",
       "\n",
       "  CARRIER ZIP   PLACE OF RECEIPT  \n",
       "0        7652  YANTIAN,GUANGDONG  \n",
       "1                  XIAMEN, CHINA  \n",
       "2        7102             NINGBO  \n",
       "3       90304    SHANGHAI, CHINA  \n",
       "4                       SHANGHAI  \n",
       "5                         NINGBO  \n",
       "6  98104-1190         CHITTAGONG  \n",
       "7  98104-1190         CHITTAGONG  \n",
       "8  98104-1190         CHITTAGONG  \n",
       "9  98104-1190         CHITTAGONG  \n",
       "\n",
       "[10 rows x 34 columns]"
      ]
     },
     "execution_count": 4,
     "metadata": {},
     "output_type": "execute_result"
    }
   ],
   "source": [
    "df_0.head(10)"
   ]
  },
  {
   "cell_type": "code",
   "execution_count": 5,
   "metadata": {},
   "outputs": [
    {
     "data": {
      "text/plain": [
       "['SHIPPER',\n",
       " 'SHIPPER ADDRESS',\n",
       " 'CONSIGNEE',\n",
       " 'CONSIGNEE ADDRESS',\n",
       " 'ZIPCODE',\n",
       " 'NOTIFY',\n",
       " 'NOTIFY ADDRESS',\n",
       " 'BILL OF LADING',\n",
       " 'ARRIVAL DATE',\n",
       " 'WEIGHT (LB)',\n",
       " 'WEIGHT (KG)',\n",
       " 'FOREIGN PORT',\n",
       " 'US PORT',\n",
       " 'QUANTITY',\n",
       " 'Q.UNIT',\n",
       " 'MEASUREMENT',\n",
       " 'M.UNIT',\n",
       " 'SHIP REGISTERED IN',\n",
       " 'VESSEL NAME',\n",
       " 'CONTAINER NUMBER',\n",
       " 'CONTAINER COUNT',\n",
       " 'PRODUCT DETAILS',\n",
       " 'MARKS AND NUMBERS',\n",
       " 'COUNTRY OF ORIGIN',\n",
       " 'DISTRIBUTION PORT',\n",
       " 'HOUSE vs MASTER',\n",
       " 'MASTER B/L',\n",
       " 'CARRIER CODE',\n",
       " 'CARRIER NAME',\n",
       " 'CARRIER ADDRESS',\n",
       " 'CARRIER CITY',\n",
       " 'CARRIER STATE',\n",
       " 'CARRIER ZIP',\n",
       " 'PLACE OF RECEIPT']"
      ]
     },
     "execution_count": 5,
     "metadata": {},
     "output_type": "execute_result"
    }
   ],
   "source": [
    "df_0.columns.tolist()"
   ]
  },
  {
   "cell_type": "code",
   "execution_count": 6,
   "metadata": {},
   "outputs": [
    {
     "data": {
      "text/plain": [
       "(2365, 34)"
      ]
     },
     "execution_count": 6,
     "metadata": {},
     "output_type": "execute_result"
    }
   ],
   "source": [
    "df_0.shape"
   ]
  },
  {
   "cell_type": "markdown",
   "metadata": {},
   "source": [
    "## 1.1 Count of rows with empty strings"
   ]
  },
  {
   "cell_type": "code",
   "execution_count": 7,
   "metadata": {
    "collapsed": true
   },
   "outputs": [],
   "source": [
    "df_1 = df_0.replace(to_replace=u' ', value = np.nan)"
   ]
  },
  {
   "cell_type": "code",
   "execution_count": 8,
   "metadata": {},
   "outputs": [
    {
     "data": {
      "text/plain": [
       "SHIPPER                  0\n",
       "SHIPPER ADDRESS       1687\n",
       "CONSIGNEE                0\n",
       "CONSIGNEE ADDRESS     1685\n",
       "ZIPCODE                  0\n",
       "NOTIFY                1227\n",
       "NOTIFY ADDRESS        1231\n",
       "BILL OF LADING           0\n",
       "ARRIVAL DATE             0\n",
       "WEIGHT (LB)              0\n",
       "WEIGHT (KG)              0\n",
       "FOREIGN PORT             0\n",
       "US PORT                  0\n",
       "QUANTITY                 0\n",
       "Q.UNIT                   0\n",
       "MEASUREMENT              0\n",
       "M.UNIT                 344\n",
       "SHIP REGISTERED IN       0\n",
       "VESSEL NAME              0\n",
       "CONTAINER NUMBER         0\n",
       "CONTAINER COUNT          0\n",
       "PRODUCT DETAILS          0\n",
       "MARKS AND NUMBERS        0\n",
       "COUNTRY OF ORIGIN        0\n",
       "DISTRIBUTION PORT     2329\n",
       "HOUSE vs MASTER        911\n",
       "MASTER B/L            1186\n",
       "CARRIER CODE             0\n",
       "CARRIER NAME            28\n",
       "CARRIER ADDRESS        414\n",
       "CARRIER CITY           374\n",
       "CARRIER STATE         1102\n",
       "CARRIER ZIP           1080\n",
       "PLACE OF RECEIPT         1\n",
       "dtype: int64"
      ]
     },
     "execution_count": 8,
     "metadata": {},
     "output_type": "execute_result"
    }
   ],
   "source": [
    "df_1.isnull().sum()"
   ]
  },
  {
   "cell_type": "markdown",
   "metadata": {},
   "source": [
    "# 2 Preliminary data exploration"
   ]
  },
  {
   "cell_type": "markdown",
   "metadata": {},
   "source": [
    "## 2.1 Unique shippers"
   ]
  },
  {
   "cell_type": "code",
   "execution_count": 9,
   "metadata": {
    "collapsed": true
   },
   "outputs": [],
   "source": [
    "shippers = df_1['SHIPPER'].unique()"
   ]
  },
  {
   "cell_type": "code",
   "execution_count": 10,
   "metadata": {},
   "outputs": [
    {
     "data": {
      "text/plain": [
       "176"
      ]
     },
     "execution_count": 10,
     "metadata": {},
     "output_type": "execute_result"
    }
   ],
   "source": [
    "len(shippers)"
   ]
  },
  {
   "cell_type": "code",
   "execution_count": 11,
   "metadata": {},
   "outputs": [],
   "source": [
    "shipper_counts = df_1['SHIPPER'].value_counts(normalize=False, sort=True, ascending=False, bins=None, dropna=True)"
   ]
  },
  {
   "cell_type": "code",
   "execution_count": 12,
   "metadata": {},
   "outputs": [
    {
     "data": {
      "text/plain": [
       "-NOT AVAILABLE-                        1687\n",
       "EXPEDITORS INTERNATIONAL I PVT LTD      114\n",
       "EXPEDITORS (BANGLADESH) LTD              84\n",
       "EXPEDITORS INTERNATIONAL(I)PVT.LTD       44\n",
       "EXPEDITORS INTERNATIONAL PAKISTAN        39\n",
       "KL PRIMETEX GUATEMALA S A                18\n",
       "EXPEDITORS INTERNATIONAL(I) PVT LTD      15\n",
       "DHL ISC (HONG KONG) LIMITED              13\n",
       "COSMOPOLITAN INDUSTRIES PVT LTD          13\n",
       "GOKALDAS IMAGES BANGLADESH               13\n",
       "NINGBO TEXTILES IMPORT & EXPORT COR       9\n",
       "CROWN WEARS PVT LTD.                      9\n",
       "REYABY TAIWAN LIMITED                     9\n",
       "FENGHUA DOMINOE MANUFACTURING             7\n",
       "FUZHOU HOME BROAD ARTS & CRAFTS CO.       7\n",
       "WORLDWIDE LOGISTICS CO.,LTD.XIAMEN        7\n",
       "NINGBO WUJI ELECTRIC APPLIANCES CO.       6\n",
       "LUCKY TEXTILE MILLS LIMITED               6\n",
       "CONTINENTAL CONAIR LIMITED                6\n",
       "LUANA MARKETING CORP                      6\n",
       "GAIT TRADING CO.,LIMITED                  6\n",
       "SHANGHAI EVER GREAT TOY CO ., LTD.        6\n",
       "NINGBO YORKSUN EXPORT CO.,LTD.            5\n",
       "SINO CONNECTIONS LOGISTICS INC.           5\n",
       "BABYLON DRESSES LTD.                      4\n",
       "ADVANCE WATCH CO. FAR EAST LTD.           4\n",
       "KUEHNE & NAGEL LTD SHENZHEN BRANCH        4\n",
       "PAC WORLDWIDE ASIA SDN BHD                4\n",
       "FUJIAN TIANCHENG HOLDINGS KNITWEAR        4\n",
       "TRIPLE EAGLE CONTAINER LINE (SZ) CO       4\n",
       "                                       ... \n",
       "ZHEJIANG HUATAI INTERNATIONAL             1\n",
       "SHANGHAI LIQIAN TRADING CO., LTD.         1\n",
       "SHAMSHER REZIA FASHIONS LTD               1\n",
       "SAISON LIMITED                            1\n",
       "EASTERN CROSS LOGISTICS INC               1\n",
       "SUNVIM GROUP TOWEL MILL 3 CO.,LTD         1\n",
       "CHANGZHANGZHOU DUHUA                      1\n",
       "HONGKONG PEARL RIVER EXPORTS LTD.         1\n",
       "HANGZHOU RIYANG I & E CO LTD              1\n",
       "GUANGDONG ZHONGBAO KITCHENWARE CO         1\n",
       "PHUM TROPHIENG THILEUNG                   1\n",
       "TOLL GLOBAL FORWARDING (HONG KONG)        1\n",
       "EXPEDITORS INTERNATIONAL I PVT. LTD       1\n",
       "WORLDWIDE LOGSITICS CO., LTD              1\n",
       "PRODUCTS PLUS LTD.                        1\n",
       "WELLS APPAREL, S.A.NICARAGUA              1\n",
       "GUANGZHOU XIANGXUELAN COSMETICS PAC       1\n",
       "ATTA PRINT CO.,LTD                        1\n",
       "PIVOTAL (HK) LTD.                         1\n",
       "LUCKY ZONE DEVELOPMENTLTD.                1\n",
       "MATTEL BRANDS A DIVISION OF MATTEL        1\n",
       "CONTINENTAL CONAIR, LTD.                  1\n",
       "TRIUMPH LINK LOGISTICS LTD SHENZHEN       1\n",
       "LIAONING WANYIHONG TEXTILES CO. LTD       1\n",
       "EVER SINCE INTERNATIONAL LOGISTICS        1\n",
       "SHANGHAI DRAGON CORPORATION               1\n",
       "ZHEJIANG WUYU APPAREL CO.LTD              1\n",
       "SMART CONCEPT TRADING LTD.                1\n",
       "FUZHOU BEST UNION IMP&EXP CORP.LTD        1\n",
       "JCH(HK)TECHNOGY&TRADING LIMITED           1\n",
       "Name: SHIPPER, Length: 176, dtype: int64"
      ]
     },
     "execution_count": 12,
     "metadata": {},
     "output_type": "execute_result"
    }
   ],
   "source": [
    "shipper_counts"
   ]
  },
  {
   "cell_type": "markdown",
   "metadata": {},
   "source": [
    "### 2.1.1 Unique shippers needs cleansing"
   ]
  },
  {
   "cell_type": "code",
   "execution_count": 13,
   "metadata": {},
   "outputs": [],
   "source": [
    "df_1.loc[df_1['SHIPPER'].isin(['EXPEDITORS INTERNATIONAL I PVT LTD', 'EXPEDITORS INTERNATIONAL(I)PVT.LTD', \n",
    "                              'EXPEDITORS INTERNATIONAL(I) PVT LTD', 'EXPEDITORS INTERNATIONAL(1)PVT.LTD',\n",
    "                              'EXPEDITORS INTERNATIONAL I PVT. LTD']), 'SHIPPER'] = \\\n",
    "'EXPEDITORS INTERNATIONAL I PVT. LTD'"
   ]
  },
  {
   "cell_type": "code",
   "execution_count": 14,
   "metadata": {},
   "outputs": [],
   "source": [
    "shipper_counts = df_1['SHIPPER'].value_counts(normalize=False, sort=True, ascending=False, bins=None, dropna=True)"
   ]
  },
  {
   "cell_type": "code",
   "execution_count": 15,
   "metadata": {},
   "outputs": [
    {
     "data": {
      "text/plain": [
       "-NOT AVAILABLE-                        1687\n",
       "EXPEDITORS INTERNATIONAL I PVT. LTD     175\n",
       "EXPEDITORS (BANGLADESH) LTD              84\n",
       "EXPEDITORS INTERNATIONAL PAKISTAN        39\n",
       "KL PRIMETEX GUATEMALA S A                18\n",
       "DHL ISC (HONG KONG) LIMITED              13\n",
       "GOKALDAS IMAGES BANGLADESH               13\n",
       "COSMOPOLITAN INDUSTRIES PVT LTD          13\n",
       "REYABY TAIWAN LIMITED                     9\n",
       "NINGBO TEXTILES IMPORT & EXPORT COR       9\n",
       "CROWN WEARS PVT LTD.                      9\n",
       "WORLDWIDE LOGISTICS CO.,LTD.XIAMEN        7\n",
       "FENGHUA DOMINOE MANUFACTURING             7\n",
       "FUZHOU HOME BROAD ARTS & CRAFTS CO.       7\n",
       "NINGBO WUJI ELECTRIC APPLIANCES CO.       6\n",
       "GAIT TRADING CO.,LIMITED                  6\n",
       "LUCKY TEXTILE MILLS LIMITED               6\n",
       "CONTINENTAL CONAIR LIMITED                6\n",
       "SHANGHAI EVER GREAT TOY CO ., LTD.        6\n",
       "LUANA MARKETING CORP                      6\n",
       "SINO CONNECTIONS LOGISTICS INC.           5\n",
       "NINGBO YORKSUN EXPORT CO.,LTD.            5\n",
       "KUEHNE & NAGEL LTD SHENZHEN BRANCH        4\n",
       "FUJIAN TIANCHENG HOLDINGS KNITWEAR        4\n",
       "C.H.ROBINSON WORLDWIDE LOGISTICS          4\n",
       "TRIPLE EAGLE CONTAINER LINE (SZ) CO       4\n",
       "PAC WORLDWIDE ASIA SDN BHD                4\n",
       "BABYLON DRESSES LTD.                      4\n",
       "ADVANCE WATCH CO. FAR EAST LTD.           4\n",
       "FEDEX INTERNATIONAL FREIGHT               3\n",
       "                                       ... \n",
       "SHANGHAI LIQIAN TRADING CO., LTD.         1\n",
       "SHAMSHER REZIA FASHIONS LTD               1\n",
       "SAISON LIMITED                            1\n",
       "EASTERN CROSS LOGISTICS INC               1\n",
       "SUNVIM GROUP TOWEL MILL 3 CO.,LTD         1\n",
       "CHANGZHANGZHOU DUHUA                      1\n",
       "HONGKONG PEARL RIVER EXPORTS LTD.         1\n",
       "HANGZHOU RIYANG I & E CO LTD              1\n",
       "GUANGDONG ZHONGBAO KITCHENWARE CO         1\n",
       "GUANGZHOU KAIZHAO GLASS PLASTIC CO.       1\n",
       "PHUM TROPHIENG THILEUNG                   1\n",
       "TOLL GLOBAL FORWARDING (HONG KONG)        1\n",
       "WORLDWIDE LOGSITICS CO., LTD              1\n",
       "PRODUCTS PLUS LTD.                        1\n",
       "WELLS APPAREL, S.A.NICARAGUA              1\n",
       "GUANGZHOU XIANGXUELAN COSMETICS PAC       1\n",
       "ATTA PRINT CO.,LTD                        1\n",
       "PIVOTAL (HK) LTD.                         1\n",
       "LUCKY ZONE DEVELOPMENTLTD.                1\n",
       "MATTEL BRANDS A DIVISION OF MATTEL        1\n",
       "CONTINENTAL CONAIR, LTD.                  1\n",
       "TRIUMPH LINK LOGISTICS LTD SHENZHEN       1\n",
       "LIAONING WANYIHONG TEXTILES CO. LTD       1\n",
       "EVER SINCE INTERNATIONAL LOGISTICS        1\n",
       "SHANGHAI DRAGON CORPORATION               1\n",
       "ZHEJIANG WUYU APPAREL CO.LTD              1\n",
       "SMART CONCEPT TRADING LTD.                1\n",
       "FUZHOU BEST UNION IMP&EXP CORP.LTD        1\n",
       "TRANS INDUSTRIAL CORP.                    1\n",
       "JCH(HK)TECHNOGY&TRADING LIMITED           1\n",
       "Name: SHIPPER, Length: 172, dtype: int64"
      ]
     },
     "execution_count": 15,
     "metadata": {},
     "output_type": "execute_result"
    }
   ],
   "source": [
    "shipper_counts"
   ]
  },
  {
   "cell_type": "code",
   "execution_count": 17,
   "metadata": {},
   "outputs": [
    {
     "data": {
      "image/png": "[encoded data removed]",
      "text/plain": [
       "<matplotlib.figure.Figure at 0x1d3e7fe3860>"
      ]
     },
     "metadata": {},
     "output_type": "display_data"
    }
   ],
   "source": [
    "#all values under trash sum to one category\n",
    "tresh = 10\n",
    "a = shipper_counts[shipper_counts <= tresh].sum()\n",
    "shipper_counts = shipper_counts[shipper_counts > tresh]\n",
    "\n",
    "#then add to filtered df\n",
    "shipper_counts.loc['another'] = a\n",
    "\n",
    "#last plot\n",
    "fig = plt.figure(figsize=(15,8))\n",
    "ax = fig.add_subplot(1, 1, 1,)\n",
    "shipper_counts.plot(kind='bar')\n",
    "plt.title('SHIPPERS', fontsize=20)\n",
    "plt.xticks(rotation=70)\n",
    "\n",
    "for tick in ax.xaxis.get_majorticklabels():\n",
    "    tick.set_horizontalalignment(\"right\")\n",
    "    \n",
    "for tick in ax.xaxis.get_major_ticks():\n",
    "    tick.label.set_fontsize(14) \n",
    "\n",
    "for tick in ax.yaxis.get_major_ticks():\n",
    "    tick.label.set_fontsize(14) \n",
    "    \n",
    "ax.set_ylabel('Consignment count', fontsize=14)\n",
    "ax.set_xlabel('Shipper name', fontsize=14)\n",
    "\n",
    "plt.tight_layout()\n",
    "\n",
    "fig.savefig('fig1.png', facecolor=fig.get_facecolor(), edgecolor='none')"
   ]
  },
  {
   "cell_type": "markdown",
   "metadata": {},
   "source": [
    "## 2.2 Unique consignees"
   ]
  },
  {
   "cell_type": "code",
   "execution_count": 37,
   "metadata": {
    "collapsed": true
   },
   "outputs": [],
   "source": [
    "consignees = df_1['CONSIGNEE'].unique()"
   ]
  },
  {
   "cell_type": "code",
   "execution_count": 38,
   "metadata": {},
   "outputs": [
    {
     "data": {
      "text/plain": [
       "144"
      ]
     },
     "execution_count": 38,
     "metadata": {},
     "output_type": "execute_result"
    }
   ],
   "source": [
    "len(consignees)"
   ]
  },
  {
   "cell_type": "code",
   "execution_count": 39,
   "metadata": {
    "collapsed": true
   },
   "outputs": [],
   "source": [
    "consignee_counts = df_1['CONSIGNEE'].value_counts(normalize=False, sort=True, ascending=False, bins=None, dropna=True)"
   ]
  },
  {
   "cell_type": "code",
   "execution_count": 40,
   "metadata": {},
   "outputs": [
    {
     "data": {
      "text/plain": [
       "-NOT AVAILABLE-                        1685\n",
       "EXPEDITORS INTL OF WA INC               153\n",
       "KOHL S DEPARTMENT STORES                114\n",
       "KOHL S DEPARTMENT STORES INC             50\n",
       "EXPEDITORS INTERNATIONAL OF              20\n",
       "STONEWALL TRADING COMPANY LP             17\n",
       "EXPEDITORS INTL-LAX (EIO)                15\n",
       "STRATTON HOME                            14\n",
       "CARDINAL INDUSTRIES INC                  13\n",
       "KOHL?S                                    9\n",
       "CONAIR CORPORATION                        9\n",
       "WORLDWIDE LOGISTICS USA                   8\n",
       "KOHL S DEPARTMENT STORES, .               8\n",
       "CARDINAL INDUSTRIES,INC.                  7\n",
       "LILLY AND ASSOCIATES INTERNATIONAL        7\n",
       "1888 MILLS SOUTHERN TERRY                 6\n",
       "KUEHNE + NAGEL,INC.                       5\n",
       "IMPACT INNOVATIONS, INC                   5\n",
       "G-III APPAREL GROUP,LTD.                  5\n",
       "C.H.ROBINSON INTERNATIONAL INC.           5\n",
       "DANIEL M. FRIEDMAN & ASSOCIATES           5\n",
       "AEROGROUP INTL INC                        5\n",
       "S.GOLDBERG & CO., INC.                    4\n",
       "PAC WORLDWIDE INC.                        4\n",
       "JANSPORT, A DIVISION OF VF OUTDOOR        4\n",
       "DANIEL M. FRIEDMAN & ASSOCIATES, IN       4\n",
       "THE ASHLEY COLLECTION INC.DBA PROTO       4\n",
       "ADVANCE WATCH COMPANY, LTD                4\n",
       "LIFETIME BRANDS INC.                      4\n",
       "CARDINAL INDUSTRIES, INC.                 4\n",
       "                                       ... \n",
       "WEIDA FREIGHT SYSTEM, INC.                1\n",
       "SCHENKER INC.                             1\n",
       "VANS , A DIVISION OF VF OUTDOOR INC       1\n",
       "STONEWALL TRADING COMPANY                 1\n",
       "CARDINAL INDUSTRIES INC21-01 51ST         1\n",
       "BIOWORLD MERCHANDISING INC                1\n",
       "UNTO THE ORDER OF                         1\n",
       "EVER LUCK CORP.                           1\n",
       "COLUMBIA CONTAINER LINE USA INC           1\n",
       "LILLY AND ASSOCIATES                      1\n",
       "UNION LOGISTICS, INC.                     1\n",
       "ACME-MCCRARY CORPORATION                  1\n",
       "WORLDWIDE LOGSITICS USA 6885 NW 25        1\n",
       "DSV AIR & SEA INC. I902                   1\n",
       "MYSTIC, INC.                              1\n",
       "MACRO INTERNATIONAL TRADING INC.          1\n",
       "CARDINAL INDUSTRIES                       1\n",
       "VIRGINIA CANDLE COMPANY DC                1\n",
       "MAD DOG CONCEPTS INC                      1\n",
       "C.H.ROBINSON INTERNATIONAL INC            1\n",
       "ARIES GLOBAL LOGISTICS INC.               1\n",
       "AVANTI TRANSPORT SERVICES INC.            1\n",
       "UNITED CUSTOMS SERVICES INC.              1\n",
       "WHO-S THERE,INC.                          1\n",
       "KOHL S DEPARTMENT STORES, INC.            1\n",
       "YUSEN LOGISTICS (AMERICAS) INC.           1\n",
       "MOTHERLINES INC                           1\n",
       "TOP SINCE LOGISTICS, INC.                 1\n",
       "LF ACCESSORIES GROUPLLC                   1\n",
       "FEDEX TRADE NETWORKS TRANSPORT &          1\n",
       "Name: CONSIGNEE, dtype: int64"
      ]
     },
     "execution_count": 40,
     "metadata": {},
     "output_type": "execute_result"
    }
   ],
   "source": [
    "consignee_counts"
   ]
  },
  {
   "cell_type": "markdown",
   "metadata": {},
   "source": [
    "### 2.2.1 Consignees needs cleansing"
   ]
  },
  {
   "cell_type": "code",
   "execution_count": 41,
   "metadata": {},
   "outputs": [],
   "source": [
    "df_1.loc[df_1['CONSIGNEE'].isin(['KOHL S DEPARTMENT STORES', 'KOHL S DEPARTMENT STORES INC', \n",
    "                                 'KOHL?S ', 'KOHL S DEPARTMENT STORES, .']), 'CONSIGNEE'] = \\\n",
    "'KOHL S DEPARTMENT STORES'"
   ]
  },
  {
   "cell_type": "code",
   "execution_count": 42,
   "metadata": {},
   "outputs": [],
   "source": [
    "consignee_counts = df_1['CONSIGNEE'].value_counts(normalize=False, sort=True, ascending=False, bins=None, dropna=True)"
   ]
  },
  {
   "cell_type": "code",
   "execution_count": 43,
   "metadata": {},
   "outputs": [
    {
     "data": {
      "text/plain": [
       "-NOT AVAILABLE-                        1685\n",
       "KOHL S DEPARTMENT STORES                172\n",
       "EXPEDITORS INTL OF WA INC               153\n",
       "EXPEDITORS INTERNATIONAL OF              20\n",
       "STONEWALL TRADING COMPANY LP             17\n",
       "EXPEDITORS INTL-LAX (EIO)                15\n",
       "STRATTON HOME                            14\n",
       "CARDINAL INDUSTRIES INC                  13\n",
       "KOHL?S                                    9\n",
       "CONAIR CORPORATION                        9\n",
       "WORLDWIDE LOGISTICS USA                   8\n",
       "CARDINAL INDUSTRIES,INC.                  7\n",
       "LILLY AND ASSOCIATES INTERNATIONAL        7\n",
       "1888 MILLS SOUTHERN TERRY                 6\n",
       "IMPACT INNOVATIONS, INC                   5\n",
       "KUEHNE + NAGEL,INC.                       5\n",
       "G-III APPAREL GROUP,LTD.                  5\n",
       "C.H.ROBINSON INTERNATIONAL INC.           5\n",
       "DANIEL M. FRIEDMAN & ASSOCIATES           5\n",
       "AEROGROUP INTL INC                        5\n",
       "CARDINAL INDUSTRIES, INC.                 4\n",
       "ADVANCE WATCH COMPANY, LTD                4\n",
       "THE ASHLEY COLLECTION INC.DBA PROTO       4\n",
       "WOLVERINE WORLD WIDE, INC.                4\n",
       "PAC WORLDWIDE INC.                        4\n",
       "JANSPORT, A DIVISION OF VF OUTDOOR        4\n",
       "S.GOLDBERG & CO., INC.                    4\n",
       "LIFETIME BRANDS INC.                      4\n",
       "DANIEL M. FRIEDMAN & ASSOCIATES, IN       4\n",
       "MAESA LLC                                 3\n",
       "                                       ... \n",
       "TRANS WORLD LOGISTICS                     1\n",
       "WEIDA FREIGHT SYSTEM, INC.                1\n",
       "SCHENKER INC.                             1\n",
       "VANS , A DIVISION OF VF OUTDOOR INC       1\n",
       "STONEWALL TRADING COMPANY                 1\n",
       "CARDINAL INDUSTRIES INC21-01 51ST         1\n",
       "UNTO THE ORDER OF:                        1\n",
       "BIOWORLD MERCHANDISING INC                1\n",
       "MAD DOG CONCEPTS INC                      1\n",
       "LILLY AND ASSOCIATES                      1\n",
       "UNION LOGISTICS, INC.                     1\n",
       "ACME-MCCRARY CORPORATION                  1\n",
       "WORLDWIDE LOGSITICS USA 6885 NW 25        1\n",
       "DSV AIR & SEA INC. I902                   1\n",
       "MYSTIC, INC.                              1\n",
       "MACRO INTERNATIONAL TRADING INC.          1\n",
       "CARDINAL INDUSTRIES                       1\n",
       "VIRGINIA CANDLE COMPANY DC                1\n",
       "C.H.ROBINSON INTERNATIONAL INC            1\n",
       "EVER LUCK CORP.                           1\n",
       "ARIES GLOBAL LOGISTICS INC.               1\n",
       "AVANTI TRANSPORT SERVICES INC.            1\n",
       "UNITED CUSTOMS SERVICES INC.              1\n",
       "WHO-S THERE,INC.                          1\n",
       "KOHL S DEPARTMENT STORES, INC.            1\n",
       "YUSEN LOGISTICS (AMERICAS) INC.           1\n",
       "MOTHERLINES INC                           1\n",
       "TOP SINCE LOGISTICS, INC.                 1\n",
       "LF ACCESSORIES GROUPLLC                   1\n",
       "FEDEX TRADE NETWORKS TRANSPORT &          1\n",
       "Name: CONSIGNEE, dtype: int64"
      ]
     },
     "execution_count": 43,
     "metadata": {},
     "output_type": "execute_result"
    }
   ],
   "source": [
    "consignee_counts"
   ]
  },
  {
   "cell_type": "code",
   "execution_count": 44,
   "metadata": {},
   "outputs": [
    {
     "data": {
      "text/plain": [
       "<matplotlib.text.Text at 0x11af18d10>"
      ]
     },
     "execution_count": 44,
     "metadata": {},
     "output_type": "execute_result"
    },
    {
     "data": {
      "image/png": "[encoded data removed]",
      "text/plain": [
       "<matplotlib.figure.Figure at 0x104ed5dd0>"
      ]
     },
     "metadata": {},
     "output_type": "display_data"
    }
   ],
   "source": [
    "#all values under trash sum to one category\n",
    "tresh = 10\n",
    "a = consignee_counts[consignee_counts <= tresh].sum()\n",
    "consignee_counts = consignee_counts[consignee_counts > tresh]\n",
    "\n",
    "#then add to filtered df\n",
    "consignee_counts.loc['another'] = a\n",
    "\n",
    "#last plot\n",
    "consignee_counts.plot(kind='bar')\n",
    "plt.title('CONSIGNEE')"
   ]
  },
  {
   "cell_type": "markdown",
   "metadata": {},
   "source": [
    "## 2.3 Arrival date"
   ]
  },
  {
   "cell_type": "code",
   "execution_count": 45,
   "metadata": {},
   "outputs": [],
   "source": [
    "arrival_dates = df_1['ARRIVAL DATE'].unique()"
   ]
  },
  {
   "cell_type": "code",
   "execution_count": 46,
   "metadata": {},
   "outputs": [
    {
     "data": {
      "text/plain": [
       "146"
      ]
     },
     "execution_count": 46,
     "metadata": {},
     "output_type": "execute_result"
    }
   ],
   "source": [
    "len(arrival_dates)"
   ]
  },
  {
   "cell_type": "code",
   "execution_count": 47,
   "metadata": {
    "collapsed": true
   },
   "outputs": [],
   "source": [
    "arrival_date_counts = df_1['ARRIVAL DATE'].value_counts(normalize=False, sort=True, ascending=False, bins=None, dropna=True)"
   ]
  },
  {
   "cell_type": "code",
   "execution_count": 48,
   "metadata": {},
   "outputs": [
    {
     "data": {
      "text/plain": [
       "2013-04-30    316\n",
       "2013-05-04    233\n",
       "2013-04-17    204\n",
       "2013-05-16    145\n",
       "2013-04-24     83\n",
       "2013-10-01     71\n",
       "2013-09-03     58\n",
       "2013-07-11     52\n",
       "2013-07-02     50\n",
       "2013-08-10     47\n",
       "2013-07-30     41\n",
       "2013-08-30     40\n",
       "2013-09-12     37\n",
       "2013-06-06     35\n",
       "2013-08-29     31\n",
       "2013-08-06     30\n",
       "2013-10-04     27\n",
       "2013-09-11     25\n",
       "2013-07-13     24\n",
       "2013-07-18     23\n",
       "2013-09-24     23\n",
       "2013-08-15     20\n",
       "2013-07-26     19\n",
       "2013-04-23     18\n",
       "2013-08-31     17\n",
       "2013-08-27     17\n",
       "2013-08-02     17\n",
       "2013-07-19     17\n",
       "2013-08-22     16\n",
       "2013-05-06     16\n",
       "             ... \n",
       "2013-04-21      2\n",
       "2013-06-28      2\n",
       "2013-04-26      2\n",
       "2013-08-05      2\n",
       "2013-07-15      2\n",
       "2013-04-29      2\n",
       "2013-06-10      2\n",
       "2013-05-30      2\n",
       "2013-08-19      1\n",
       "2013-08-16      1\n",
       "2013-06-22      1\n",
       "2013-10-02      1\n",
       "2013-05-03      1\n",
       "2013-06-21      1\n",
       "2013-06-05      1\n",
       "2013-10-05      1\n",
       "2013-06-17      1\n",
       "2013-08-24      1\n",
       "2013-05-11      1\n",
       "2013-06-29      1\n",
       "2013-06-02      1\n",
       "2013-10-06      1\n",
       "2013-08-25      1\n",
       "2013-07-28      1\n",
       "2013-06-08      1\n",
       "2013-06-18      1\n",
       "2013-10-03      1\n",
       "2013-07-24      1\n",
       "2013-05-31      1\n",
       "2013-05-23      1\n",
       "Name: ARRIVAL DATE, dtype: int64"
      ]
     },
     "execution_count": 48,
     "metadata": {},
     "output_type": "execute_result"
    }
   ],
   "source": [
    "arrival_date_counts"
   ]
  },
  {
   "cell_type": "code",
   "execution_count": 157,
   "metadata": {},
   "outputs": [],
   "source": [
    "dates = arrival_date_counts.index.tolist()"
   ]
  },
  {
   "cell_type": "code",
   "execution_count": 151,
   "metadata": {},
   "outputs": [
    {
     "data": {
      "image/png": "[encoded data removed]",
      "text/plain": [
       "<matplotlib.figure.Figure at 0x1246c7d10>"
      ]
     },
     "metadata": {},
     "output_type": "display_data"
    }
   ],
   "source": [
    "# all values under tresh sum to one category\n",
    "tresh = 10\n",
    "a = arrival_date_counts[arrival_date_counts <= tresh].sum()\n",
    "arrival_date_counts = arrival_date_counts[arrival_date_counts > tresh]\n",
    "\n",
    "#then add to filtered df\n",
    "arrival_date_counts.loc['another'] = a\n",
    "\n",
    "fig = plt.figure(figsize=(15,8))\n",
    "ax = fig.add_subplot(1, 1, 1,)\n",
    "arrival_date_counts.plot(kind='bar')\n",
    "plt.title('ARRIVAL DATE', fontsize=20)\n",
    "plt.xticks(rotation=70)\n",
    "\n",
    "for tick in ax.xaxis.get_majorticklabels():\n",
    "    tick.set_horizontalalignment(\"right\")\n",
    "    \n",
    "for tick in ax.xaxis.get_major_ticks():\n",
    "    tick.label.set_fontsize(14) \n",
    "\n",
    "for tick in ax.yaxis.get_major_ticks():\n",
    "    tick.label.set_fontsize(14) \n",
    "\n",
    "plt.tight_layout()\n",
    "\n",
    "#fig.savefig('fig1.png', facecolor=fig.get_facecolor(), edgecolor='none')\n"
   ]
  },
  {
   "cell_type": "markdown",
   "metadata": {},
   "source": [
    "## 2.4 Weight (kg)"
   ]
  },
  {
   "cell_type": "code",
   "execution_count": 50,
   "metadata": {},
   "outputs": [],
   "source": [
    "weight = df_1['WEIGHT (KG)'].unique()"
   ]
  },
  {
   "cell_type": "code",
   "execution_count": 51,
   "metadata": {},
   "outputs": [
    {
     "data": {
      "text/plain": [
       "1359"
      ]
     },
     "execution_count": 51,
     "metadata": {},
     "output_type": "execute_result"
    }
   ],
   "source": [
    "len(weight)"
   ]
  },
  {
   "cell_type": "code",
   "execution_count": 52,
   "metadata": {
    "collapsed": true
   },
   "outputs": [],
   "source": [
    "weight_counts = df_1['WEIGHT (KG)'].value_counts(normalize=False, sort=True, ascending=False, bins=None, dropna=True)"
   ]
  },
  {
   "cell_type": "code",
   "execution_count": 53,
   "metadata": {},
   "outputs": [
    {
     "data": {
      "text/plain": [
       "53.0       15\n",
       "193.0      12\n",
       "165.0      11\n",
       "668.0      10\n",
       "216.0       9\n",
       "284.0       9\n",
       "266.0       9\n",
       "1591.0      9\n",
       "22.0        8\n",
       "214.0       8\n",
       "1535.0      8\n",
       "1901.0      8\n",
       "258.0       8\n",
       "541.0       7\n",
       "144.0       6\n",
       "336.0       6\n",
       "281.0       6\n",
       "2485.0      6\n",
       "137.0       6\n",
       "207.0       6\n",
       "109.0       6\n",
       "315.0       6\n",
       "215.0       6\n",
       "504.0       6\n",
       "981.0       6\n",
       "38.0        6\n",
       "5350.0      6\n",
       "57.0        5\n",
       "7344.0      5\n",
       "3850.0      5\n",
       "           ..\n",
       "3582.3      1\n",
       "2071.0      1\n",
       "2079.0      1\n",
       "2083.0      1\n",
       "10280.0     1\n",
       "6185.0      1\n",
       "2093.0      1\n",
       "10286.0     1\n",
       "2095.0      1\n",
       "2102.0      1\n",
       "2120.0      1\n",
       "14322.0     1\n",
       "26600.0     1\n",
       "14310.0     1\n",
       "10162.0     1\n",
       "6046.0      1\n",
       "1951.0      1\n",
       "10144.0     1\n",
       "6057.0      1\n",
       "6060.0      1\n",
       "10161.0     1\n",
       "26556.0     1\n",
       "18392.0     1\n",
       "6078.0      1\n",
       "14273.0     1\n",
       "17286.0     1\n",
       "2000.0      1\n",
       "2003.0      1\n",
       "2006.0      1\n",
       "13470.5     1\n",
       "Name: WEIGHT (KG), dtype: int64"
      ]
     },
     "execution_count": 53,
     "metadata": {},
     "output_type": "execute_result"
    }
   ],
   "source": [
    "weight_counts"
   ]
  },
  {
   "cell_type": "code",
   "execution_count": 54,
   "metadata": {},
   "outputs": [
    {
     "data": {
      "text/plain": [
       "<matplotlib.text.Text at 0x11c958f50>"
      ]
     },
     "execution_count": 54,
     "metadata": {},
     "output_type": "execute_result"
    },
    {
     "data": {
      "image/png": "[encoded data removed]",
      "text/plain": [
       "<matplotlib.figure.Figure at 0x11be493d0>"
      ]
     },
     "metadata": {},
     "output_type": "display_data"
    }
   ],
   "source": [
    "#all values under trash sum to one category\n",
    "tresh = 1\n",
    "a = weight_counts[weight_counts <= tresh].sum()\n",
    "weight_counts = weight_counts[weight_counts > tresh]\n",
    "\n",
    "#then add to filtered df\n",
    "weight_counts.loc['another'] = a\n",
    "\n",
    "#last plot\n",
    "weight_counts.plot(kind='bar')\n",
    "plt.title('WEIGHT (KG)')"
   ]
  },
  {
   "cell_type": "markdown",
   "metadata": {},
   "source": [
    "## 2.5 Foreign port"
   ]
  },
  {
   "cell_type": "code",
   "execution_count": 55,
   "metadata": {
    "collapsed": true
   },
   "outputs": [],
   "source": [
    "foreign_port = df_1['FOREIGN PORT'].unique()"
   ]
  },
  {
   "cell_type": "code",
   "execution_count": 56,
   "metadata": {},
   "outputs": [
    {
     "data": {
      "text/plain": [
       "31"
      ]
     },
     "execution_count": 56,
     "metadata": {},
     "output_type": "execute_result"
    }
   ],
   "source": [
    "len(foreign_port)"
   ]
  },
  {
   "cell_type": "code",
   "execution_count": 57,
   "metadata": {
    "collapsed": true
   },
   "outputs": [],
   "source": [
    "foreign_port_counts = df_1['FOREIGN PORT'].value_counts(normalize=False, sort=True, ascending=False, bins=None, dropna=True)"
   ]
  },
  {
   "cell_type": "code",
   "execution_count": 58,
   "metadata": {},
   "outputs": [
    {
     "data": {
      "text/plain": [
       "Singapore                  1067\n",
       "Pusan                       384\n",
       "Colombo                     244\n",
       "Yantian                     126\n",
       "Xiamen                      114\n",
       "Shanghai                     79\n",
       "Port Muhammad Bin Qasim      65\n",
       "Ningpo                       54\n",
       "Kaohsiung                    38\n",
       "Nhava Sheva                  32\n",
       "Hong Kong                    26\n",
       "Santo Tomas                  19\n",
       "Chiwan                       17\n",
       "Salalah                      16\n",
       "Jebel Ali                    16\n",
       "Mundra                       15\n",
       "All Other Malta Ports        10\n",
       "Taipei                       10\n",
       "Karachi                       8\n",
       "Ching Tao                     4\n",
       "Laem Chabang                  4\n",
       "Thanh Pho Ho Chi Minh         3\n",
       "Tanjung Pelepas               3\n",
       "Tokyo                         2\n",
       "Nansha                        2\n",
       "Vung Tau                      2\n",
       "Puerto Cortes                 1\n",
       "Fuzhou                        1\n",
       "Vancouver, BC                 1\n",
       "Bremerhaven                   1\n",
       "Hu lu Tao                     1\n",
       "Name: FOREIGN PORT, dtype: int64"
      ]
     },
     "execution_count": 58,
     "metadata": {},
     "output_type": "execute_result"
    }
   ],
   "source": [
    "foreign_port_counts"
   ]
  },
  {
   "cell_type": "code",
   "execution_count": 59,
   "metadata": {},
   "outputs": [
    {
     "data": {
      "text/plain": [
       "<matplotlib.text.Text at 0x11d213d90>"
      ]
     },
     "execution_count": 59,
     "metadata": {},
     "output_type": "execute_result"
    },
    {
     "data": {
      "image/png": "[encoded data removed]",
      "text/plain": [
       "<matplotlib.figure.Figure at 0x11c859d50>"
      ]
     },
     "metadata": {},
     "output_type": "display_data"
    }
   ],
   "source": [
    "#all values under trash sum to one category\n",
    "tresh = 2\n",
    "a = foreign_port_counts[foreign_port_counts <= tresh].sum()\n",
    "foreign_port_counts = foreign_port_counts[foreign_port_counts > tresh]\n",
    "\n",
    "#then add to filtered df\n",
    "foreign_port_counts.loc['another'] = a\n",
    "\n",
    "#last plot\n",
    "foreign_port_counts.plot(kind='bar')\n",
    "plt.title('FOREIGN PORT')"
   ]
  },
  {
   "cell_type": "markdown",
   "metadata": {},
   "source": [
    "## 2.6 US port"
   ]
  },
  {
   "cell_type": "code",
   "execution_count": 60,
   "metadata": {
    "collapsed": true
   },
   "outputs": [],
   "source": [
    "us_port = df_1['US PORT'].unique()"
   ]
  },
  {
   "cell_type": "code",
   "execution_count": 61,
   "metadata": {},
   "outputs": [
    {
     "data": {
      "text/plain": [
       "16"
      ]
     },
     "execution_count": 61,
     "metadata": {},
     "output_type": "execute_result"
    }
   ],
   "source": [
    "len(us_port)"
   ]
  },
  {
   "cell_type": "code",
   "execution_count": 62,
   "metadata": {
    "collapsed": true
   },
   "outputs": [],
   "source": [
    "us_port_counts = df_1['US PORT'].value_counts(normalize=False, sort=True, ascending=False, bins=None, dropna=True)"
   ]
  },
  {
   "cell_type": "code",
   "execution_count": 63,
   "metadata": {},
   "outputs": [
    {
     "data": {
      "text/plain": [
       "Los Angeles, California                     1626\n",
       "New York/Newark Area, Newark, New Jersey     397\n",
       "Long Beach, California                       187\n",
       "Savannah, Georgia                             63\n",
       "New York, New York                            33\n",
       "Miami, Florida                                19\n",
       "Tacoma, Washington                            11\n",
       "Seattle, Washington                            8\n",
       "Charleston, South Carolina                     7\n",
       "Oakland, California                            4\n",
       "Norfolk, Virginia                              3\n",
       "Boston, Massachusetts                          3\n",
       "Wilmington, North Carolina                     1\n",
       "Brunswick, Georgia                             1\n",
       "Port Everglades, Florida                       1\n",
       "Baltimore, Maryland                            1\n",
       "Name: US PORT, dtype: int64"
      ]
     },
     "execution_count": 63,
     "metadata": {},
     "output_type": "execute_result"
    }
   ],
   "source": [
    "us_port_counts"
   ]
  },
  {
   "cell_type": "code",
   "execution_count": 64,
   "metadata": {},
   "outputs": [
    {
     "data": {
      "text/plain": [
       "<matplotlib.text.Text at 0x11d9cbc10>"
      ]
     },
     "execution_count": 64,
     "metadata": {},
     "output_type": "execute_result"
    },
    {
     "data": {
      "image/png": "[encoded data removed]",
      "text/plain": [
       "<matplotlib.figure.Figure at 0x11c83fa10>"
      ]
     },
     "metadata": {},
     "output_type": "display_data"
    }
   ],
   "source": [
    "#all values under trash sum to one category\n",
    "tresh = 2\n",
    "a = us_port_counts[us_port_counts <= tresh].sum()\n",
    "us_port_counts = us_port_counts[us_port_counts > tresh]\n",
    "\n",
    "#then add to filtered df\n",
    "us_port_counts.loc['another'] = a\n",
    "\n",
    "#last plot\n",
    "us_port_counts.plot(kind='bar')\n",
    "plt.title('US PORT')"
   ]
  },
  {
   "cell_type": "markdown",
   "metadata": {},
   "source": [
    "## 2.7 Quantity"
   ]
  },
  {
   "cell_type": "code",
   "execution_count": 23,
   "metadata": {
    "collapsed": true
   },
   "outputs": [],
   "source": [
    "quantity = df_1['QUANTITY'].unique()"
   ]
  },
  {
   "cell_type": "code",
   "execution_count": 24,
   "metadata": {},
   "outputs": [
    {
     "data": {
      "text/plain": [
       "926"
      ]
     },
     "execution_count": 24,
     "metadata": {},
     "output_type": "execute_result"
    }
   ],
   "source": [
    "len(quantity)"
   ]
  },
  {
   "cell_type": "code",
   "execution_count": 25,
   "metadata": {
    "collapsed": true
   },
   "outputs": [],
   "source": [
    "quantity_counts = df_1['QUANTITY'].value_counts(normalize=False, sort=True, ascending=False, bins=None, dropna=True)"
   ]
  },
  {
   "cell_type": "code",
   "execution_count": 26,
   "metadata": {},
   "outputs": [
    {
     "data": {
      "text/plain": [
       "24       23\n",
       "28       21\n",
       "32       18\n",
       "48       17\n",
       "15       16\n",
       "56       16\n",
       "80       15\n",
       "100      15\n",
       "64       15\n",
       "10       15\n",
       "120      14\n",
       "63       14\n",
       "40       13\n",
       "230      13\n",
       "66       13\n",
       "16       13\n",
       "70       12\n",
       "167      12\n",
       "12       12\n",
       "5        12\n",
       "9        12\n",
       "125      12\n",
       "34       12\n",
       "18       12\n",
       "42       11\n",
       "14       11\n",
       "47       11\n",
       "144      10\n",
       "60       10\n",
       "68       10\n",
       "         ..\n",
       "7229      1\n",
       "1086      1\n",
       "3135      1\n",
       "1090      1\n",
       "15437     1\n",
       "1108      1\n",
       "489       1\n",
       "7265      1\n",
       "3177      1\n",
       "1130      1\n",
       "4710      1\n",
       "3191      1\n",
       "1144      1\n",
       "1150      1\n",
       "2508      1\n",
       "15489     1\n",
       "1158      1\n",
       "1174      1\n",
       "1180      1\n",
       "3231      1\n",
       "3233      1\n",
       "1186      1\n",
       "1192      1\n",
       "3241      1\n",
       "1194      1\n",
       "23725     1\n",
       "461       1\n",
       "9394      1\n",
       "1206      1\n",
       "11975     1\n",
       "Name: QUANTITY, Length: 926, dtype: int64"
      ]
     },
     "execution_count": 26,
     "metadata": {},
     "output_type": "execute_result"
    }
   ],
   "source": [
    "quantity_counts"
   ]
  },
  {
   "cell_type": "code",
   "execution_count": 28,
   "metadata": {},
   "outputs": [
    {
     "data": {
      "text/plain": [
       "Text(0.5,1,'QUANTITY')"
      ]
     },
     "execution_count": 28,
     "metadata": {},
     "output_type": "execute_result"
    },
    {
     "data": {
      "image/png": "[encoded data removed]",
      "text/plain": [
       "<matplotlib.figure.Figure at 0x1d3e849d128>"
      ]
     },
     "metadata": {},
     "output_type": "display_data"
    }
   ],
   "source": [
    "#all values under trash sum to one category\n",
    "tresh = 5\n",
    "a = quantity_counts[quantity_counts <= tresh].sum()\n",
    "quantity_counts = quantity_counts[quantity_counts > tresh]\n",
    "\n",
    "#then add to filtered df\n",
    "quantity_counts.loc['another'] = a\n",
    "\n",
    "#last plot\n",
    "quantity_counts.plot(kind='bar')\n",
    "plt.title('QUANTITY')"
   ]
  },
  {
   "cell_type": "markdown",
   "metadata": {},
   "source": [
    "## 2.8 Quantity unit"
   ]
  },
  {
   "cell_type": "code",
   "execution_count": 70,
   "metadata": {
    "collapsed": true
   },
   "outputs": [],
   "source": [
    "quantity_unit = df_1['Q.UNIT'].unique()"
   ]
  },
  {
   "cell_type": "code",
   "execution_count": 71,
   "metadata": {},
   "outputs": [
    {
     "data": {
      "text/plain": [
       "5"
      ]
     },
     "execution_count": 71,
     "metadata": {},
     "output_type": "execute_result"
    }
   ],
   "source": [
    "len(quantity_unit)"
   ]
  },
  {
   "cell_type": "code",
   "execution_count": 72,
   "metadata": {},
   "outputs": [
    {
     "data": {
      "text/plain": [
       "array([u'CTN', u'PCS', u'PKG', u'CNT', u'CRT'], dtype=object)"
      ]
     },
     "execution_count": 72,
     "metadata": {},
     "output_type": "execute_result"
    }
   ],
   "source": [
    "quantity_unit"
   ]
  },
  {
   "cell_type": "code",
   "execution_count": 73,
   "metadata": {
    "collapsed": true
   },
   "outputs": [],
   "source": [
    "quantity_unit_counts = df_1['Q.UNIT'].value_counts(normalize=False, sort=True, ascending=False, bins=None, dropna=True)"
   ]
  },
  {
   "cell_type": "code",
   "execution_count": 74,
   "metadata": {},
   "outputs": [
    {
     "data": {
      "text/plain": [
       "CTN    2125\n",
       "PCS     213\n",
       "CNT      18\n",
       "PKG       8\n",
       "CRT       1\n",
       "Name: Q.UNIT, dtype: int64"
      ]
     },
     "execution_count": 74,
     "metadata": {},
     "output_type": "execute_result"
    }
   ],
   "source": [
    "quantity_unit_counts"
   ]
  },
  {
   "cell_type": "code",
   "execution_count": 75,
   "metadata": {},
   "outputs": [
    {
     "data": {
      "text/plain": [
       "<matplotlib.text.Text at 0x120b01310>"
      ]
     },
     "execution_count": 75,
     "metadata": {},
     "output_type": "execute_result"
    },
    {
     "data": {
      "image/png": "[encoded data removed]",
      "text/plain": [
       "<matplotlib.figure.Figure at 0x11da755d0>"
      ]
     },
     "metadata": {},
     "output_type": "display_data"
    }
   ],
   "source": [
    "quantity_unit_counts.plot(kind='bar')\n",
    "plt.title('Q.UNIT')"
   ]
  },
  {
   "cell_type": "markdown",
   "metadata": {},
   "source": [
    "## 2.9 Measurement"
   ]
  },
  {
   "cell_type": "code",
   "execution_count": 76,
   "metadata": {
    "collapsed": true
   },
   "outputs": [],
   "source": [
    "measurement = df_1['MEASUREMENT'].unique()"
   ]
  },
  {
   "cell_type": "code",
   "execution_count": 77,
   "metadata": {},
   "outputs": [
    {
     "data": {
      "text/plain": [
       "179"
      ]
     },
     "execution_count": 77,
     "metadata": {},
     "output_type": "execute_result"
    }
   ],
   "source": [
    "len(measurement)"
   ]
  },
  {
   "cell_type": "code",
   "execution_count": 78,
   "metadata": {
    "collapsed": true
   },
   "outputs": [],
   "source": [
    "measurement_counts = df_1['MEASUREMENT'].value_counts(normalize=False, sort=True, ascending=False, bins=None, dropna=True)"
   ]
  },
  {
   "cell_type": "code",
   "execution_count": 79,
   "metadata": {},
   "outputs": [
    {
     "data": {
      "text/plain": [
       "0       622\n",
       "1       221\n",
       "2       183\n",
       "3        88\n",
       "4        82\n",
       "7        69\n",
       "8        64\n",
       "5        61\n",
       "6        58\n",
       "10       51\n",
       "9        47\n",
       "11       41\n",
       "16       39\n",
       "13       38\n",
       "15       32\n",
       "12       30\n",
       "23       26\n",
       "21       26\n",
       "14       24\n",
       "20       20\n",
       "22       20\n",
       "17       20\n",
       "18       18\n",
       "24       15\n",
       "30       13\n",
       "53       13\n",
       "19       13\n",
       "58       11\n",
       "60       11\n",
       "27       11\n",
       "       ... \n",
       "214       1\n",
       "85        1\n",
       "226       1\n",
       "234       1\n",
       "244       1\n",
       "248       1\n",
       "254       1\n",
       "262       1\n",
       "264       1\n",
       "276       1\n",
       "2331      1\n",
       "290       1\n",
       "302       1\n",
       "6449      1\n",
       "364       1\n",
       "368       1\n",
       "394       1\n",
       "448       1\n",
       "522       1\n",
       "708       1\n",
       "5034      1\n",
       "5258      1\n",
       "3709      1\n",
       "3789      1\n",
       "1419      1\n",
       "43        1\n",
       "71        1\n",
       "77        1\n",
       "81        1\n",
       "5916      1\n",
       "Name: MEASUREMENT, dtype: int64"
      ]
     },
     "execution_count": 79,
     "metadata": {},
     "output_type": "execute_result"
    }
   ],
   "source": [
    "measurement_counts"
   ]
  },
  {
   "cell_type": "code",
   "execution_count": 80,
   "metadata": {},
   "outputs": [
    {
     "data": {
      "text/plain": [
       "<matplotlib.text.Text at 0x122212a10>"
      ]
     },
     "execution_count": 80,
     "metadata": {},
     "output_type": "execute_result"
    },
    {
     "data": {
      "image/png": "[encoded data removed]",
      "text/plain": [
       "<matplotlib.figure.Figure at 0x11db86850>"
      ]
     },
     "metadata": {},
     "output_type": "display_data"
    }
   ],
   "source": [
    "#all values under trash sum to one category\n",
    "tresh = 3\n",
    "a = measurement_counts[measurement_counts <= tresh].sum()\n",
    "measurement_counts = measurement_counts[measurement_counts > tresh]\n",
    "\n",
    "#then add to filtered df\n",
    "measurement_counts.loc['another'] = a\n",
    "\n",
    "#last plot\n",
    "measurement_counts.plot(kind='bar')\n",
    "plt.title('MEASUREMENT')"
   ]
  },
  {
   "cell_type": "markdown",
   "metadata": {},
   "source": [
    "## 2.10 Ship registration"
   ]
  },
  {
   "cell_type": "code",
   "execution_count": 81,
   "metadata": {
    "collapsed": true
   },
   "outputs": [],
   "source": [
    "ship_registration = df_1['SHIP REGISTERED IN'].unique()"
   ]
  },
  {
   "cell_type": "code",
   "execution_count": 82,
   "metadata": {},
   "outputs": [
    {
     "data": {
      "text/plain": [
       "21"
      ]
     },
     "execution_count": 82,
     "metadata": {},
     "output_type": "execute_result"
    }
   ],
   "source": [
    "len(ship_registration)"
   ]
  },
  {
   "cell_type": "code",
   "execution_count": 83,
   "metadata": {
    "collapsed": true
   },
   "outputs": [],
   "source": [
    "ship_registration_counts = df_1['SHIP REGISTERED IN'].value_counts(normalize=False, sort=True, ascending=False, bins=None, dropna=True)"
   ]
  },
  {
   "cell_type": "code",
   "execution_count": 84,
   "metadata": {},
   "outputs": [
    {
     "data": {
      "text/plain": [
       "PANAMA                       1091\n",
       "HONG KONG                     458\n",
       "SINGAPORE                     182\n",
       "LIBERIA                       169\n",
       "UNITED STATES                 144\n",
       "GERMANY                       111\n",
       "UNITED KINGDOM                 54\n",
       "ANTIGUA AND BARBUDA            45\n",
       "DENMARK                        30\n",
       "BAHAMAS                        17\n",
       "ISRAEL                         13\n",
       "BERMUDA                        10\n",
       "MARSHALL ISLANDS                8\n",
       "CHINA                           8\n",
       "GREECE                          8\n",
       "CYPRUS                          5\n",
       "KOREA, REPUBLIC OF              5\n",
       "MALTA                           3\n",
       "FRANCE                          2\n",
       "TAIWAN, PROVINCE OF CHINA       1\n",
       "MALAYSIA                        1\n",
       "Name: SHIP REGISTERED IN, dtype: int64"
      ]
     },
     "execution_count": 84,
     "metadata": {},
     "output_type": "execute_result"
    }
   ],
   "source": [
    "ship_registration_counts"
   ]
  },
  {
   "cell_type": "code",
   "execution_count": 85,
   "metadata": {},
   "outputs": [
    {
     "data": {
      "text/plain": [
       "<matplotlib.text.Text at 0x12249bc10>"
      ]
     },
     "execution_count": 85,
     "metadata": {},
     "output_type": "execute_result"
    },
    {
     "data": {
      "image/png": "[encoded data removed]",
      "text/plain": [
       "<matplotlib.figure.Figure at 0x1205e3d50>"
      ]
     },
     "metadata": {},
     "output_type": "display_data"
    }
   ],
   "source": [
    "#all values under trash sum to one category\n",
    "tresh = 1\n",
    "a = ship_registration_counts[ship_registration_counts <= tresh].sum()\n",
    "ship_registration_counts = ship_registration_counts[ship_registration_counts > tresh]\n",
    "\n",
    "#then add to filtered df\n",
    "ship_registration_counts.loc['another'] = a\n",
    "\n",
    "#last plot\n",
    "ship_registration_counts.plot(kind='bar')\n",
    "plt.title('SHIP REGISTERED IN')"
   ]
  },
  {
   "cell_type": "markdown",
   "metadata": {},
   "source": [
    "## 2.11 Vessel name"
   ]
  },
  {
   "cell_type": "code",
   "execution_count": 86,
   "metadata": {
    "collapsed": true
   },
   "outputs": [],
   "source": [
    "vessel_name = df_1['VESSEL NAME'].unique()"
   ]
  },
  {
   "cell_type": "code",
   "execution_count": 87,
   "metadata": {},
   "outputs": [
    {
     "data": {
      "text/plain": [
       "247"
      ]
     },
     "execution_count": 87,
     "metadata": {},
     "output_type": "execute_result"
    }
   ],
   "source": [
    "len(vessel_name)"
   ]
  },
  {
   "cell_type": "code",
   "execution_count": 88,
   "metadata": {
    "collapsed": true
   },
   "outputs": [],
   "source": [
    "vessel_name_counts = df_1['VESSEL NAME'].value_counts(normalize=False, sort=True, ascending=False, bins=None, dropna=True)"
   ]
  },
  {
   "cell_type": "code",
   "execution_count": 89,
   "metadata": {},
   "outputs": [
    {
     "data": {
      "text/plain": [
       "APL WASHINGTON        335\n",
       "HYUNDAI COURAGE       237\n",
       "APL ZEEBRUGGE         214\n",
       "HYUNDAI FAITH         144\n",
       "APL LATVIA            116\n",
       "OOCL VANCOUVER         63\n",
       "APL SAVANNAH           51\n",
       "HANJIN XIAMEN          46\n",
       "APL PHOENIX            40\n",
       "APL TEXAS              40\n",
       "NYK ARTEMIS            35\n",
       "NYK APOLLO             35\n",
       "APL FRANCE             31\n",
       "OOCL OAKLAND           26\n",
       "BERLIN EXPRESS         24\n",
       "APL BOSTON             23\n",
       "CMA CGM CORAL          20\n",
       "APL AGATE              20\n",
       "DALIAN EXPRESS         20\n",
       "NYK THEMIS             18\n",
       "DENEB J                18\n",
       "HANJIN CHONGQING       18\n",
       "YANTIAN EXPRESS        17\n",
       "HANJIN PORT KELANG     17\n",
       "EVER STRONG            17\n",
       "NYK LIBRA              15\n",
       "APL PEARL              15\n",
       "CMA CGM EIFFEL         15\n",
       "MARE ATLANTICUM        14\n",
       "APL CYPRINE            14\n",
       "                     ... \n",
       "HANJIN COPENHAGEN       1\n",
       "EVER ELITE              1\n",
       "UASC JEDDAH             1\n",
       "EVER EXCEL              1\n",
       "HANJIN GREECE           1\n",
       "APL IOLITE              1\n",
       "EVER SIGMA              1\n",
       "HANJIN ROME             1\n",
       "METTE MAERSK            1\n",
       "MOL PARAMOUNT           1\n",
       "HYUNDAI LOYALTY         1\n",
       "MOL COSMOS              1\n",
       "MOL MANEUVER            1\n",
       "MANUKAI                 1\n",
       "COSCO COLOMBO           1\n",
       "EVER UNIFIC             1\n",
       "SEASPAN HAMBURG         1\n",
       "YM COSMOS               1\n",
       "SUEZ CANAL BRIDGE       1\n",
       "CAP PASADO              1\n",
       "AKINADA BRIDGE          1\n",
       "COSCO BOSTON            1\n",
       "APL SCOTLAND            1\n",
       "YM GREAT                1\n",
       "NYK RIGEL               1\n",
       "NYK CONSTELLATION       1\n",
       "NYK NEBULA              1\n",
       "ALBERT MAERSK           1\n",
       "PRETORIA                1\n",
       "MOL LOIRE               1\n",
       "Name: VESSEL NAME, dtype: int64"
      ]
     },
     "execution_count": 89,
     "metadata": {},
     "output_type": "execute_result"
    }
   ],
   "source": [
    "vessel_name_counts"
   ]
  },
  {
   "cell_type": "code",
   "execution_count": 90,
   "metadata": {},
   "outputs": [
    {
     "data": {
      "text/plain": [
       "<matplotlib.text.Text at 0x1227fe4d0>"
      ]
     },
     "execution_count": 90,
     "metadata": {},
     "output_type": "execute_result"
    },
    {
     "data": {
      "image/png": "[encoded data removed]",
      "text/plain": [
       "<matplotlib.figure.Figure at 0x1214c9090>"
      ]
     },
     "metadata": {},
     "output_type": "display_data"
    }
   ],
   "source": [
    "#all values under trash sum to one category\n",
    "tresh = 13\n",
    "a = vessel_name_counts[vessel_name_counts <= tresh].sum()\n",
    "vessel_name_counts = vessel_name_counts[vessel_name_counts > tresh]\n",
    "\n",
    "#then add to filtered df\n",
    "vessel_name_counts.loc['another'] = a\n",
    "\n",
    "#last plot\n",
    "vessel_name_counts.plot(kind='bar')\n",
    "plt.title('VESSEL NAME')"
   ]
  },
  {
   "cell_type": "markdown",
   "metadata": {},
   "source": [
    "## 2.12 Container number"
   ]
  },
  {
   "cell_type": "code",
   "execution_count": 91,
   "metadata": {
    "collapsed": true
   },
   "outputs": [],
   "source": [
    "container_number = df_1['CONTAINER NUMBER'].unique()"
   ]
  },
  {
   "cell_type": "code",
   "execution_count": 92,
   "metadata": {},
   "outputs": [
    {
     "data": {
      "text/plain": [
       "840"
      ]
     },
     "execution_count": 92,
     "metadata": {},
     "output_type": "execute_result"
    }
   ],
   "source": [
    "len(container_number)"
   ]
  },
  {
   "cell_type": "code",
   "execution_count": 93,
   "metadata": {
    "collapsed": true
   },
   "outputs": [],
   "source": [
    "container_number_counts = df_1['CONTAINER NUMBER'].value_counts(normalize=False, sort=True, ascending=False, bins=None, dropna=True)"
   ]
  },
  {
   "cell_type": "code",
   "execution_count": 94,
   "metadata": {},
   "outputs": [
    {
     "data": {
      "text/plain": [
       "BMOU5212540                                                                60\n",
       "HDMU6392791                                                                56\n",
       "HDMU6332811                                                                50\n",
       "HDMU6686820                                                                42\n",
       "TCKU9089561                                                                40\n",
       "HDMU6410730                                                                36\n",
       "HDMU4438912                                                                36\n",
       "DFSU6245920                                                                33\n",
       "BSIU9344663                                                                30\n",
       "HDMU6365646                                                                30\n",
       "HDMU6691792                                                                30\n",
       "HDMU4671210                                                                30\n",
       "HDMU6534140                                                                30\n",
       "UETU5020085                                                                30\n",
       "GESU4483302                                                                28\n",
       "HDMU6291754                                                                27\n",
       "HDMU6736264                                                                27\n",
       "GESU6365952                                                                25\n",
       "HDMU6878320                                                                24\n",
       "CLHU8654186                                                                21\n",
       "GLDU0877650                                                                21\n",
       "CAXU7366063                                                                21\n",
       "CRXU9942291                                                                20\n",
       "NYKU4213873                                                                18\n",
       "HDMU4650264                                                                18\n",
       "TRLU8678521                                                                16\n",
       "APHU6611791                                                                16\n",
       "CAIU8602027                                                                15\n",
       "CAIU4103138                                                                15\n",
       "APZU4460003                                                                14\n",
       "                                                                           ..\n",
       "FSCU9983579                                                                 1\n",
       "WHLU2284674 WHLU5479941                                                     1\n",
       "NYKU4582969                                                                 1\n",
       "ILUU4003710 AMFU8793624 TTNU4801388 TGHU8975880 CLHU9097090 CLHU8991274     1\n",
       "NYKU5485808                                                                 1\n",
       "HJCU1088175 TCNU6788596 HJCU4147420                                         1\n",
       "TTNU9826239                                                                 1\n",
       "AMFU8536987 HLXU8182726                                                     1\n",
       "MSKU1715642                                                                 1\n",
       "MRKU4421383                                                                 1\n",
       "WHLU4201811 WHLU4293628 WHLU5206079 WHLU4230342                             1\n",
       "HLXU8111189                                                                 1\n",
       "TGHU4654943                                                                 1\n",
       "TGHU8012936 PONU1286506                                                     1\n",
       "NYKU4012040                                                                 1\n",
       "HLXU6481097                                                                 1\n",
       "DRYU4046229                                                                 1\n",
       "TRLU8728284                                                                 1\n",
       "INBU5246505 TCKU4541030 BMOU5079566                                         1\n",
       "NYKU8295165                                                                 1\n",
       "IMTU1099764 EMCU1382311 EISU9276366 EGHU1063074                             1\n",
       "MSKU4502086                                                                 1\n",
       "EMHU648279                                                                  1\n",
       "HJCU9019680                                                                 1\n",
       "JBHU282215                                                                  1\n",
       "EISU8021756 EMCU9794589                                                     1\n",
       "CPSU4052129                                                                 1\n",
       "FCIU8120996 HLXU6338358                                                     1\n",
       "HJCU4162912 HJCU4292264                                                     1\n",
       "HLXU4433295 CSQU4427645                                                     1\n",
       "Name: CONTAINER NUMBER, dtype: int64"
      ]
     },
     "execution_count": 94,
     "metadata": {},
     "output_type": "execute_result"
    }
   ],
   "source": [
    "container_number_counts"
   ]
  },
  {
   "cell_type": "code",
   "execution_count": 95,
   "metadata": {},
   "outputs": [
    {
     "data": {
      "text/plain": [
       "<matplotlib.text.Text at 0x122abd550>"
      ]
     },
     "execution_count": 95,
     "metadata": {},
     "output_type": "execute_result"
    },
    {
     "data": {
      "image/png": "[encoded data removed]",
      "text/plain": [
       "<matplotlib.figure.Figure at 0x121465550>"
      ]
     },
     "metadata": {},
     "output_type": "display_data"
    }
   ],
   "source": [
    "#all values under trash sum to one category\n",
    "tresh = 3\n",
    "a = container_number_counts[container_number_counts <= tresh].sum()\n",
    "container_number_counts = container_number_counts[container_number_counts > tresh]\n",
    "\n",
    "#then add to filtered df\n",
    "container_number_counts.loc['another'] = a\n",
    "\n",
    "#last plot\n",
    "container_number_counts.plot(kind='bar')\n",
    "plt.title('CONTAINER NUMBER')"
   ]
  },
  {
   "cell_type": "markdown",
   "metadata": {},
   "source": [
    "## 2.13 Container count"
   ]
  },
  {
   "cell_type": "code",
   "execution_count": 96,
   "metadata": {
    "collapsed": true
   },
   "outputs": [],
   "source": [
    "container_count = df_1['CONTAINER COUNT'].unique()"
   ]
  },
  {
   "cell_type": "code",
   "execution_count": 97,
   "metadata": {},
   "outputs": [
    {
     "data": {
      "text/plain": [
       "18"
      ]
     },
     "execution_count": 97,
     "metadata": {},
     "output_type": "execute_result"
    }
   ],
   "source": [
    "len(container_count)"
   ]
  },
  {
   "cell_type": "code",
   "execution_count": 98,
   "metadata": {
    "collapsed": true
   },
   "outputs": [],
   "source": [
    "container_count_counts = df_1['CONTAINER COUNT'].value_counts(normalize=False, sort=True, ascending=False, bins=None, dropna=True)"
   ]
  },
  {
   "cell_type": "code",
   "execution_count": 99,
   "metadata": {},
   "outputs": [
    {
     "data": {
      "text/plain": [
       "1     2043\n",
       "2      166\n",
       "3       71\n",
       "4       26\n",
       "5       21\n",
       "6       10\n",
       "7        6\n",
       "10       5\n",
       "13       3\n",
       "11       3\n",
       "8        3\n",
       "17       2\n",
       "9        1\n",
       "27       1\n",
       "18       1\n",
       "14       1\n",
       "12       1\n",
       "29       1\n",
       "Name: CONTAINER COUNT, dtype: int64"
      ]
     },
     "execution_count": 99,
     "metadata": {},
     "output_type": "execute_result"
    }
   ],
   "source": [
    "container_count_counts"
   ]
  },
  {
   "cell_type": "code",
   "execution_count": 100,
   "metadata": {},
   "outputs": [
    {
     "data": {
      "text/plain": [
       "<matplotlib.text.Text at 0x122fa4f10>"
      ]
     },
     "execution_count": 100,
     "metadata": {},
     "output_type": "execute_result"
    },
    {
     "data": {
      "image/png": "[encoded data removed]",
      "text/plain": [
       "<matplotlib.figure.Figure at 0x122a12e50>"
      ]
     },
     "metadata": {},
     "output_type": "display_data"
    }
   ],
   "source": [
    "#all values under trash sum to one category\n",
    "tresh = 1\n",
    "a = container_count_counts[container_count_counts <= tresh].sum()\n",
    "container_count_counts = container_count_counts[container_count_counts > tresh]\n",
    "\n",
    "#then add to filtered df\n",
    "container_count_counts.loc['another'] = a\n",
    "\n",
    "#last plot\n",
    "container_count_counts.plot(kind='bar')\n",
    "plt.title('CONTAINER COUNT')"
   ]
  },
  {
   "cell_type": "markdown",
   "metadata": {},
   "source": [
    "## 2.14 Product details"
   ]
  },
  {
   "cell_type": "code",
   "execution_count": 101,
   "metadata": {
    "collapsed": true
   },
   "outputs": [],
   "source": [
    "product_details = df_1['PRODUCT DETAILS'].unique()"
   ]
  },
  {
   "cell_type": "code",
   "execution_count": 102,
   "metadata": {},
   "outputs": [
    {
     "data": {
      "text/plain": [
       "1445"
      ]
     },
     "execution_count": 102,
     "metadata": {},
     "output_type": "execute_result"
    }
   ],
   "source": [
    "len(product_details)"
   ]
  },
  {
   "cell_type": "code",
   "execution_count": 103,
   "metadata": {
    "collapsed": true
   },
   "outputs": [],
   "source": [
    "product_details_counts = df_1['PRODUCT DETAILS'].value_counts(normalize=False, sort=True, ascending=False, bins=None, dropna=True)"
   ]
  },
  {
   "cell_type": "code",
   "execution_count": 104,
   "metadata": {},
   "outputs": [
    {
     "data": {
      "text/plain": [
       "BOYS COTTON WOVEN SHORT                                                                                                                                                                                                                                                                                                                                                                                                                                                                                                                                                                                                                                                                                                                                                                                                                                                                                                                                                                                                                                                            119\n",
       "MENS COTTON WOVEN SHORT                                                                                                                                                                                                                                                                                                                                                                                                                                                                                                                                                                                                                                                                                                                                                                                                                                                                                                                                                                                                                                                             37\n",
       "READYMADE GARMENTS                                                                                                                                                                                                                                                                                                                                                                                                                                                                                                                                                                                                                                                                                                                                                                                                                                                                                                                                                                                                                                                                  34\n",
       "MENS COTTON WOVEN SHORTS                                                                                                                                                                                                                                                                                                                                                                                                                                                                                                                                                                                                                                                                                                                                                                                                                                                                                                                                                                                                                                                            33\n",
       "COTTON MENS WOVEN SHIRT WITH HANGER                                                                                                                                                                                                                                                                                                                                                                                                                                                                                                                                                                                                                                                                                                                                                                                                                                                                                                                                                                                                                                                 30\n",
       "MENS COTTON WOVEN PANT                                                                                                                                                                                                                                                                                                                                                                                                                                                                                                                                                                                                                                                                                                                                                                                                                                                                                                                                                                                                                                                              26\n",
       "GIRLS COTTON SPANDEX WOVEN SHORT                                                                                                                                                                                                                                                                                                                                                                                                                                                                                                                                                                                                                                                                                                                                                                                                                                                                                                                                                                                                                                                    24\n",
       "COTTON HANDLOOM WOVEN MADE UPS                                                                                                                                                                                                                                                                                                                                                                                                                                                                                                                                                                                                                                                                                                                                                                                                                                                                                                                                                                                                                                                      23\n",
       "BOYS COTTON WOVEN PANT                                                                                                                                                                                                                                                                                                                                                                                                                                                                                                                                                                                                                                                                                                                                                                                                                                                                                                                                                                                                                                                              22\n",
       "GIRLS COTTON POLYESTER SPANDEX                                                                                                                                                                                                                                                                                                                                                                                                                                                                                                                                                                                                                                                                                                                                                                                                                                                                                                                                                                                                                                                      21\n",
       "BOYS COTTON KNITTED PULLOVER                                                                                                                                                                                                                                                                                                                                                                                                                                                                                                                                                                                                                                                                                                                                                                                                                                                                                                                                                                                                                                                        20\n",
       "GIRLS COTTON POLYESTER SPANDEX BERMUDA                                                                                                                                                                                                                                                                                                                                                                                                                                                                                                                                                                                                                                                                                                                                                                                                                                                                                                                                                                                                                                              20\n",
       "BABIES COTTON KNITTED PULLOVER                                                                                                                                                                                                                                                                                                                                                                                                                                                                                                                                                                                                                                                                                                                                                                                                                                                                                                                                                                                                                                                      17\n",
       "GIRLS COTTON SPANDEX WOVEN BERMUDA                                                                                                                                                                                                                                                                                                                                                                                                                                                                                                                                                                                                                                                                                                                                                                                                                                                                                                                                                                                                                                                  16\n",
       "COTTON WOVEN DENIM PANTS                                                                                                                                                                                                                                                                                                                                                                                                                                                                                                                                                                                                                                                                                                                                                                                                                                                                                                                                                                                                                                                            15\n",
       "GIRLS COTTON WOVEN BERMUDA                                                                                                                                                                                                                                                                                                                                                                                                                                                                                                                                                                                                                                                                                                                                                                                                                                                                                                                                                                                                                                                          15\n",
       "BOYS 100 PCT COTTON WOVEN SHORT                                                                                                                                                                                                                                                                                                                                                                                                                                                                                                                                                                                                                                                                                                                                                                                                                                                                                                                                                                                                                                                     15\n",
       "COTTON WOVEN SHORT                                                                                                                                                                                                                                                                                                                                                                                                                                                                                                                                                                                                                                                                                                                                                                                                                                                                                                                                                                                                                                                                  15\n",
       "BOYS COTTON WOVEN SHORTS                                                                                                                                                                                                                                                                                                                                                                                                                                                                                                                                                                                                                                                                                                                                                                                                                                                                                                                                                                                                                                                            13\n",
       "COTTON MENS WOVEN SHIRT WIHT HANGER                                                                                                                                                                                                                                                                                                                                                                                                                                                                                                                                                                                                                                                                                                                                                                                                                                                                                                                                                                                                                                                 12\n",
       "MENS LINEN COTTON WOVEN PANT                                                                                                                                                                                                                                                                                                                                                                                                                                                                                                                                                                                                                                                                                                                                                                                                                                                                                                                                                                                                                                                        11\n",
       "MENS COTTON WOVEN DENIM PANTS                                                                                                                                                                                                                                                                                                                                                                                                                                                                                                                                                                                                                                                                                                                                                                                                                                                                                                                                                                                                                                                       11\n",
       "COTTON HANDLOOM WOVEN MADE                                                                                                                                                                                                                                                                                                                                                                                                                                                                                                                                                                                                                                                                                                                                                                                                                                                                                                                                                                                                                                                          11\n",
       "MENS 100 PCT COTTON WOVEN SHORTS                                                                                                                                                                                                                                                                                                                                                                                                                                                                                                                                                                                                                                                                                                                                                                                                                                                                                                                                                                                                                                                    10\n",
       "100 PCT COTTON POWERLOOM MADE UPS                                                                                                                                                                                                                                                                                                                                                                                                                                                                                                                                                                                                                                                                                                                                                                                                                                                                                                                                                                                                                                                   10\n",
       "MENS POLYESTER VISCOSE WOVEN                                                                                                                                                                                                                                                                                                                                                                                                                                                                                                                                                                                                                                                                                                                                                                                                                                                                                                                                                                                                                                                        10\n",
       "GIRLS COTTON SPANDEX WOVEN SHORTS                                                                                                                                                                                                                                                                                                                                                                                                                                                                                                                                                                                                                                                                                                                                                                                                                                                                                                                                                                                                                                                    9\n",
       "COTTON EXCLUSIVE OF DECORATION                                                                                                                                                                                                                                                                                                                                                                                                                                                                                                                                                                                                                                                                                                                                                                                                                                                                                                                                                                                                                                                       9\n",
       "MENS COTTON KNIT T SHIRT                                                                                                                                                                                                                                                                                                                                                                                                                                                                                                                                                                                                                                                                                                                                                                                                                                                                                                                                                                                                                                                             9\n",
       "MENS POLYESTER VISCOSE SHIRTS                                                                                                                                                                                                                                                                                                                                                                                                                                                                                                                                                                                                                                                                                                                                                                                                                                                                                                                                                                                                                                                        9\n",
       "                                                                                                                                                                                                                                                                                                                                                                                                                                                                                                                                                                                                                                                                                                                                                                                                                                                                                                                                                                                                                                                                                  ... \n",
       "ONE THOUSAND ONE HUNDRED AND EIGHT CARTONS ONLY. MENS 100% COTTON KNITTED T SHIRT INV #:201307633 DTD:29.07.13 S.B.#:6763524 DTD:02.08.13                                                                                                                                                                                                                                                                                                                                                                                                                                                                                                                                                                                                                                                                                                                                                                                                                                                                                                                                            1\n",
       "GAMES: PO NO.21913 ITEM NO.90 661 BASIC PUZZLE FOIL BAGS IN SIDE CAP DIDPLAY PO NO.211 48 ITEM NO.62086 BIG BANG F AN EDITION GAME PO NO.21149 I TEM NO.4000 FLOOR STAND PU ZZLES-LENTICULAR PO NO.21421 GAMES: PO NO.21913 ITEM NO.90 661 BASIC PUZZLE FOIL BAGS IN SIDE CAP DIDPLAY PO NO.211 48 ITEM NO.62086 BIG BANG F AN EDITION GAME PO NO.21149 I TEM NO.4000 FLOOR STAND PU ZZLES-LENTICULAR PO NO.21421                                                                                                                                                                                                                                                                                                                                                                                                                                                                                                                                                                                                                                                                    1\n",
       "(1070 CARTONS) CY / CY 5350.000GW, 57.780CM, 1070CTN GENERAL DEPT STORE MERCHANDISE (GDSM) ONE THOUSAND SEVENTY CARTONS ONLY. MENS 100% COTTON WOVEN SHORTS. INV#:GI/12-13/0694 DT:16.03.13 S.B#:4480230 DT:16.03.13                                                                                                                                                                                                                                                                                                                                                                                                                                                                                                                                                                                                                                                                                                                                                                                                                                                                 1\n",
       "ONE HUNDRED AND ELEVAN CARTONS ONLY 100% COTTON HANDLOOM WOVEN MADE UPS YARN DYED. INV#:3039 DT:15.05.13 S.B#:5493192 DT:18.05.13                                                                                                                                                                                                                                                                                                                                                                                                                                                                                                                                                                                                                                                                                                                                                                                                                                                                                                                                                    1\n",
       "LINENS LINENS, NOS 1175 CARTONS  2,038 SETS BATH TOWEL,HAND TOWEL,WASHCLOTH H S CODE 63 02 10 376 CARTONS SHIP P0 8149341. 114 CARTONS SHIP P0 8149485. LINENS BATH TOWEL,HAND TOWEL,WASHCLOTH H S CODE 63 02 10                                                                                                                                                                                                                                                                                                                                                                                                                                                                                                                                                                                                                                                                                                                                                                                                                                                                     1\n",
       "100% RAYON WOMENS WOVEN DRESS 100% RAYON WOMENS WOVEN DRESS ROUND NECK S L LACE INSERT AT FRONT AND HEM CHEETAH PRINT UNLINED 100% RAYON WOMENS WOVEN DRESS 100% RAYON WOMENS WOVEN DRESS ROUND NECK S L LACE INSERT AT FRONT AND HEM CHEETAH PRINT UNLINED                                                                                                                                                                                                                                                                                                                                                                                                                                                                                                                                                                                                                                                                                                                                                                                                                          1\n",
       "SIXTY SIX CARTONS ONLY 86% STRAW 14% COTTON HANDLOOM WOVEN MADE UPS YARN DYED PLACEMAT. INV#:3074 DT:14.06.13 S.B#:5967510 DT:15.06.13 PO#:8155329 STYLE#:MULTY                                                                                                                                                                                                                                                                                                                                                                                                                                                                                                                                                                                                                                                                                                                                                                                                                                                                                                                      1\n",
       "FORTY NINE CARTONS ONLY. LADIES 98- COTTON 2- SPANDEX DENIM PANT. INV #-201308368 DTD-23.08.13 S.B.#-7174798 DTD-28.08.13 P.O. #-8116914 STYLE-TSB333050D P-M NO.- 13-NKOHLW1-0836-1 PCS-392                                                                                                                                                                                                                                                                                                                                                                                                                                                                                                                                                                                                                                                                                                                                                                                                                                                                                         1\n",
       "EIGHTY NINE CARTONS ONLY. GIRLS 98- COTTON 2- SPANDEX WOVEN GIRLS 80- COTTON 19- POLYESTER 1- SPANDEX WOVEN DENIM PANT INV #-201307657 DTD-29.07.13 S.B.#-6697735 DTD-30.07.13 P.O. #-8072393 STYLE-GB31261                                                                                                                                                                                                                                                                                                                                                                                                                                                                                                                                                                                                                                                                                                                                                                                                                                                                          1\n",
       "BOYS KNITTED SLEEP PANTS                                                                                                                                                                                                                                                                                                                                                                                                                                                                                                                                                                                                                                                                                                                                                                                                                                                                                                                                                                                                                                                             1\n",
       "NINETY FOUR CARTONS ONLY. LADIES 98% COTTON 2% SPANDEX WOVEN SKIRT INV #:201303189 DTD:13.05.13 S.B.#:5409878 DT:13.05.13 P.O#:7996805 STYLE#:SB238002DE P M NO.: 13-NKOHLW1-0416-1                                                                                                                                                                                                                                                                                                                                                                                                                                                                                                                                                                                                                                                                                                                                                                                                                                                                                                  1\n",
       "TODD GIRL PRINCESS LIGHTED SHOES ACI 69084,69085 INF DISNEY PRINCESS LIGHTED SHOES ACI70118, 70119,70120 STORE DOOR DELIVERY FREIG HT COLLECT THIS SHIPMENT CONTAINS NO REGULATED WOOD PACKAGING MATERIALS ATTN MARK SILMAN DESCRIPTION COMPLETE                                                                                                                                                                                                                                                                                                                                                                                                                                                                                                                                                                                                                                                                                                                                                                                                                                     1\n",
       "TWO THOUSAND FIFTY TWO CARTONS ONLY 100% COTTON KNIT LAPPED SHOULDER BODYSUIT W ELBOW PATCHES. INV:INJJ-0522 13-14 DT:11.07.13                                                                                                                                                                                                                                                                                                                                                                                                                                                                                                                                                                                                                                                                                                                                                                                                                                                                                                                                                       1\n",
       "CHILDRENS FOOTWEAR KOHLS STYLE: CALILEVYFLORAL SHIPPERS DESIRE TO STATE THAT PO NBR: 008070880 SKU NBR: NIL XIAMEN TOP MOUNTAIN TRADE CO.,LTD.                                                                                                                                                                                                                                                                                                                                                                                                                                                                                                                                                                                                                                                                                                                                                                                                                                                                                                                                       1\n",
       "NINE CARTONS ONLY 100-COTTON WOVEN MENS FULL SLEEVE SHIRTS INV #-BRFL-1300434 DT-21.06.13 S.B.#-6079313 DTD-22.06.13 PO#-8014846 STYLE#-UYT33507 PM NO-13-NKOHLM1-0861-1 PCS-108                                                                                                                                                                                                                                                                                                                                                                                                                                                                                                                                                                                                                                                                                                                                                                                                                                                                                                     1\n",
       "MENS 45% COTTON 55% LINEN WOVEN SHORT FABRIC: 45% COTTON 55% LINEN P.O#7838989 STYLE NO: FMAS137005 H.S.CODE NO: 62.03.4200 INVOICE NO:                                                                                                                                                                                                                                                                                                                                                                                                                                                                                                                                                                                                                                                                                                                                                                                                                                                                                                                                              1\n",
       "READYMADE GARMENTS MILLMADE 100- COTTON WOVEN LADIES BLOUSES STYLE # - CB23121BE PONO # - 7978286 HTS CODE# 6205.20.2066 INV. # CWL-1423-2013 DT- 13-04-2013                                                                                                                                                                                                                                                                                                                                                                                                                                                                                                                                                                                                                                                                                                                                                                                                                                                                                                                         1\n",
       "FORTY NINE CARTONS ONLY 86% STRAW 14% COTTON HANDLOOM POWERLOOM WOVEN MADE UPS YARN DYED. PLACEMAT. INV #:3037 DTD:15.05.13 S.B.#:5493196 DT:18.05.13                                                                                                                                                                                                                                                                                                                                                                                                                                                                                                                                                                                                                                                                                                                                                                                                                                                                                                                                1\n",
       "TREE LED WITH SNOW 2FT ORDER KLWHITE,RED,AND GREEN AW (CHRISTMAS LIGHTS) PO RELEASE NO.(MSL2)156125-3 CUSTOMER PO NUMBER32741 CUNTOMERRELEASE NO.RL327413 SHIP TO KOHLS DC 0089 9 7800 NORTH 113TH STREET MILWAUKEE,WI 43224H.S CODE9405300000 THIS SHIPMENT CONTAINS NO SOLID WOOD PACKING MATERIALS ALSO SHIPPER                                                                                                                                                                                                                                                                                                                                                                                                                                                                                                                                                                                                                                                                                                                                                                   1\n",
       "TWENTY SEVEN CARTONS ONLY 100- COTTON MENS WOVEN SHIRTS INV-TIPL-E1314-0186 DT-24.06.13 S-B NO-6109325 DT-24.06.13 PO#8097651 STYLE-MAS3334005 PCS-162 01 FREIGHT COLLECT                                                                                                                                                                                                                                                                                                                                                                                                                                                                                                                                                                                                                                                                                                                                                                                                                                                                                                            1\n",
       "CHILDRENS FOOTWEAR SHIPPERS DESIRE TO STATE THAT KOHLS STYLE:CAGIANABLACK PO NBR: 008012220 SKU NBR: NIL XIAMEN TOP MOUNTAIN TRADE                                                                                                                                                                                                                                                                                                                                                                                                                                                                                                                                                                                                                                                                                                                                                                                                                                                                                                                                                   1\n",
       "(12250 CARTONS) CY / CY 14001.600GW, 73.220CM, 2334CTN GENERAL DEPT STORE MERCHANDISE (GDSM) TWO THOUSAND THREE HUNDRED AND THIRTY FOUR CARTONS ONLY. BOYS 100% COTTON WOVEN PANT. INV #:201300257 DTD:03.04.13 (12250 CARTONS) CY / CY 14001.600GW, 73.220CM, 2334CTN GENERAL DEPT STORE MERCHANDISE (GDSM) TWO THOUSAND THREE HUNDRED AND THIRTY FOUR CARTONS ONLY. BOYS 100% COTTON WOVEN PANT. INV #:201300257 DTD:03.04.13 (12250 CARTONS) CY / CY 14001.600GW, 73.220CM, 2334CTN GENERAL DEPT STORE MERCHANDISE (GDSM) TWO THOUSAND THREE HUNDRED AND THIRTY FOUR CARTONS ONLY. BOYS 100% COTTON WOVEN PANT. INV #:201300257 DTD:03.04.13 (12250 CARTONS) CY / CY 14001.600GW, 73.220CM, 2334CTN GENERAL DEPT STORE MERCHANDISE (GDSM) TWO THOUSAND THREE HUNDRED AND THIRTY FOUR CARTONS ONLY. BOYS 100% COTTON WOVEN PANT. INV #:201300257 DTD:03.04.13 (12250 CARTONS) CY / CY 14001.600GW, 73.220CM, 2334CTN GENERAL DEPT STORE MERCHANDISE (GDSM) TWO THOUSAND THREE HUNDRED AND THIRTY FOUR CARTONS ONLY. BOYS 100% COTTON WOVEN PANT. INV #:201300257 DTD:03.04.13      1\n",
       "LADIES-61% ACRYLIC 33% POLYESTER 6% METALLIC KNITTED SWEATER HORIZONTAL: 5 STITCHES PER 2CM PO#232722 LADIES- 100% COTTON KNITTED PULLOVER HORIZONTAL: 12 STITCHES PER 2CM PO#233851 LADIES- 76% ACRYLIC 18% POLYESTER 6% METALLIC KNITTED SWEATER                                                                                                                                                                                                                                                                                                                                                                                                                                                                                                                                                                                                                                                                                                                                                                                                                                   1\n",
       "LADIES 98% COTTON 2% SPANDEX W OVEN PANTS INTENDED MOTHER VE SSEL : MAERSK DAUPHIN .V.1304 KOHLS PO NO 7907608 SERVICE CONTRACT NO : 515044 TOTAL NO OF CARTONS : 8 TOTAL CBM : 0 .160 CBM GROSS WEIGHT : 40.00                                                                                                                                                                                                                                                                                                                                                                                                                                                                                                                                                                                                                                                                                                                                                                                                                                                                      1\n",
       "SIX HUNDRED - FIFTY FIVE CARTONS ONLY GIRLS 98- COTTON 2- SPANDEX WOVEN PANT INV #-201305821 DT-24.06.13 S.B.#-6111736 DT-25.06.13 P.O#-8022103 STYLE#-GB33202,GB33203AP P-M NO.- 13-NKOHLCH-0969-1 PCS-7860                                                                                                                                                                                                                                                                                                                                                                                                                                                                                                                                                                                                                                                                                                                                                                                                                                                                         1\n",
       "READYMADE GARMENTS LADIES 100% COTTON WOVEN SHIRT. CAT-341 STYLE# ST331052 PO# 8067473 HTS CODE : 620630                                                                                                                                                                                                                                                                                                                                                                                                                                                                                                                                                                                                                                                                                                                                                                                                                                                                                                                                                                             1\n",
       "COTTON PROCESSED MADE-UPS CTNS(THREE THOUSAND ONE HUNDRED FIFTEEN CARTONS ONLY) (100% COTTON PROCESSED MADE-UPS) 100% COTTON WOVEN 400TC SOLID SATIN BED SHEET SETS AS PER INV 34/0209H/14 DT 20.04.2013 COTTON PROCESSED MADE-UPS CTNS(THREE THOUSAND ONE HUNDRED FIFTEEN CARTONS ONLY) (100% COTTON PROCESSED MADE-UPS) 100% COTTON WOVEN 400TC SOLID SATIN BED SHEET SETS AS PER INV 34/0209H/14 DT 20.04.2013 COTTON PROCESSED MADE-UPS CTNS(THREE THOUSAND ONE HUNDRED FIFTEEN CARTONS ONLY) (100% COTTON PROCESSED MADE-UPS) 100% COTTON WOVEN 400TC SOLID SATIN BED SHEET SETS AS PER INV 34/0209H/14 DT 20.04.2013                                                                                                                                                                                                                                                                                                                                                                                                                                                           1\n",
       "SEVENTY CARTONS ONLY. 100% COTTON KNIT POCKET BODYSUIT INV:INJJ-0518 13-14 DT:11.07.13 S B NO:6479529 DT:16.07.13 PO#:8041721 STYLE:NGJ33001KA                                                                                                                                                                                                                                                                                                                                                                                                                                                                                                                                                                                                                                                                                                                                                                                                                                                                                                                                       1\n",
       "TWENTY FOUR CARTONS ONLY. 100%COTTON WOVEN MENS FULL SLEEVE SHIRTS INV #:BRFL 1301393 DT:05.08.13 S.B.#:6939186 DTD:13.08.13 PO#:8078834 STYLE#:UYT33507)                                                                                                                                                                                                                                                                                                                                                                                                                                                                                                                                                                                                                                                                                                                                                                                                                                                                                                                            1\n",
       "READYMADE GARMENTS: MENS 100% COTTON WOVEN SHORT FABRIC: 100% COTTON P.O#7967412 STYLE NO: AP137205 H.S.CODE NO: 6203.42.4051 INVOICE NO:                                                                                                                                                                                                                                                                                                                                                                                                                                                                                                                                                                                                                                                                                                                                                                                                                                                                                                                                            1\n",
       "Name: PRODUCT DETAILS, dtype: int64"
      ]
     },
     "execution_count": 104,
     "metadata": {},
     "output_type": "execute_result"
    }
   ],
   "source": [
    "product_details_counts"
   ]
  },
  {
   "cell_type": "code",
   "execution_count": 105,
   "metadata": {},
   "outputs": [
    {
     "data": {
      "text/plain": [
       "<matplotlib.text.Text at 0x12390c490>"
      ]
     },
     "execution_count": 105,
     "metadata": {},
     "output_type": "execute_result"
    },
    {
     "data": {
      "image/png": "[encoded data removed]",
      "text/plain": [
       "<matplotlib.figure.Figure at 0x122b6b610>"
      ]
     },
     "metadata": {},
     "output_type": "display_data"
    }
   ],
   "source": [
    "#all values under trash sum to one category\n",
    "tresh = 10\n",
    "a = product_details_counts[product_details_counts <= tresh].sum()\n",
    "product_details_counts = product_details_counts[product_details_counts > tresh]\n",
    "\n",
    "#then add to filtered df\n",
    "product_details_counts.loc['another'] = a\n",
    "\n",
    "#last plot\n",
    "product_details_counts.plot(kind='bar')\n",
    "plt.title('PRODUCT DETAILS')"
   ]
  },
  {
   "cell_type": "markdown",
   "metadata": {},
   "source": [
    "## 2.15 Country of origin"
   ]
  },
  {
   "cell_type": "code",
   "execution_count": 106,
   "metadata": {
    "collapsed": true
   },
   "outputs": [],
   "source": [
    "country_origin = df_1['COUNTRY OF ORIGIN'].unique()"
   ]
  },
  {
   "cell_type": "code",
   "execution_count": 107,
   "metadata": {},
   "outputs": [
    {
     "data": {
      "text/plain": [
       "19"
      ]
     },
     "execution_count": 107,
     "metadata": {},
     "output_type": "execute_result"
    }
   ],
   "source": [
    "len(country_origin)"
   ]
  },
  {
   "cell_type": "code",
   "execution_count": 108,
   "metadata": {
    "collapsed": true
   },
   "outputs": [],
   "source": [
    "country_origin_counts = df_1['COUNTRY OF ORIGIN'].value_counts(normalize=False, sort=True, ascending=False, bins=None, dropna=True)"
   ]
  },
  {
   "cell_type": "code",
   "execution_count": 109,
   "metadata": {},
   "outputs": [
    {
     "data": {
      "text/plain": [
       "Singapore         1067\n",
       "China              398\n",
       "South Korea        384\n",
       "Sri Lanka          244\n",
       "Pakistan            73\n",
       "China Taiwan        48\n",
       "India               47\n",
       "Hong Kong           26\n",
       "Guatemala           19\n",
       "United Arab Em      16\n",
       "Oman                16\n",
       "Malta               10\n",
       "Vietnam              5\n",
       "Thailand             4\n",
       "Malaysia             3\n",
       "Japan                2\n",
       "Germany              1\n",
       "Honduras             1\n",
       "Canada               1\n",
       "Name: COUNTRY OF ORIGIN, dtype: int64"
      ]
     },
     "execution_count": 109,
     "metadata": {},
     "output_type": "execute_result"
    }
   ],
   "source": [
    "country_origin_counts"
   ]
  },
  {
   "cell_type": "code",
   "execution_count": 110,
   "metadata": {},
   "outputs": [
    {
     "data": {
      "text/plain": [
       "<matplotlib.text.Text at 0x123c905d0>"
      ]
     },
     "execution_count": 110,
     "metadata": {},
     "output_type": "execute_result"
    },
    {
     "data": {
      "image/png": "[encoded data removed]",
      "text/plain": [
       "<matplotlib.figure.Figure at 0x122584c90>"
      ]
     },
     "metadata": {},
     "output_type": "display_data"
    }
   ],
   "source": [
    "#all values under trash sum to one category\n",
    "tresh = 1\n",
    "a = country_origin_counts[country_origin_counts <= tresh].sum()\n",
    "country_origin_counts = country_origin_counts[country_origin_counts > tresh]\n",
    "\n",
    "#then add to filtered df\n",
    "country_origin_counts.loc['another'] = a\n",
    "\n",
    "#last plot\n",
    "country_origin_counts.plot(kind='bar')\n",
    "plt.title('COUNTRY OF ORIGIN')"
   ]
  },
  {
   "cell_type": "markdown",
   "metadata": {},
   "source": [
    "## 2.16 Carrier code"
   ]
  },
  {
   "cell_type": "code",
   "execution_count": 111,
   "metadata": {
    "collapsed": true
   },
   "outputs": [],
   "source": [
    "carrier_code = df_1['CARRIER CODE'].unique()"
   ]
  },
  {
   "cell_type": "code",
   "execution_count": 112,
   "metadata": {},
   "outputs": [
    {
     "data": {
      "text/plain": [
       "75"
      ]
     },
     "execution_count": 112,
     "metadata": {},
     "output_type": "execute_result"
    }
   ],
   "source": [
    "len(carrier_code)"
   ]
  },
  {
   "cell_type": "code",
   "execution_count": 113,
   "metadata": {
    "collapsed": true
   },
   "outputs": [],
   "source": [
    "carrier_code_counts = df_1['CARRIER CODE'].value_counts(normalize=False, sort=True, ascending=False, bins=None, dropna=True)"
   ]
  },
  {
   "cell_type": "code",
   "execution_count": 114,
   "metadata": {},
   "outputs": [
    {
     "data": {
      "text/plain": [
       "EXDO    1000\n",
       "NYKS     353\n",
       "APLU     322\n",
       "HLCU     189\n",
       "MAEU     112\n",
       "EGLV      45\n",
       "KKLU      29\n",
       "OOLU      22\n",
       "HDMU      20\n",
       "SMLU      18\n",
       "CMDU      14\n",
       "SMMB      12\n",
       "HJSC      12\n",
       "TYPC      12\n",
       "BANQ       9\n",
       "VZLG       9\n",
       "HJLT       9\n",
       "COSU       9\n",
       "HYSL       9\n",
       "ENCL       8\n",
       "CHNJ       8\n",
       "MSCU       8\n",
       "TECB       7\n",
       "CHHK       7\n",
       "SINO       7\n",
       "KLQI       7\n",
       "WWLL       7\n",
       "WHLC       6\n",
       "TWGD       6\n",
       "DEWC       5\n",
       "        ... \n",
       "PIFW       2\n",
       "FTNV       2\n",
       "MWNC       2\n",
       "RWRD       2\n",
       "WECD       1\n",
       "ODFN       1\n",
       "PABV       1\n",
       "EVOK       1\n",
       "CLAM       1\n",
       "HIHN       1\n",
       "TRUM       1\n",
       "UNQL       1\n",
       "EVLL       1\n",
       "PLHI       1\n",
       "SCLI       1\n",
       "TKIB       1\n",
       "FTPA       1\n",
       "DMAL       1\n",
       "SCQH       1\n",
       "ZIMU       1\n",
       "ECUI       1\n",
       "REGB       1\n",
       "WWOL       1\n",
       "AUSR       1\n",
       "TOEJ       1\n",
       "HSPG       1\n",
       "NAQA       1\n",
       "ECCI       1\n",
       "MOLU       1\n",
       "AROF       1\n",
       "Name: CARRIER CODE, dtype: int64"
      ]
     },
     "execution_count": 114,
     "metadata": {},
     "output_type": "execute_result"
    }
   ],
   "source": [
    "carrier_code_counts"
   ]
  },
  {
   "cell_type": "code",
   "execution_count": 115,
   "metadata": {},
   "outputs": [
    {
     "data": {
      "text/plain": [
       "<matplotlib.text.Text at 0x123dd5f10>"
      ]
     },
     "execution_count": 115,
     "metadata": {},
     "output_type": "execute_result"
    },
    {
     "data": {
      "image/png": "[encoded data removed]",
      "text/plain": [
       "<matplotlib.figure.Figure at 0x11def9f50>"
      ]
     },
     "metadata": {},
     "output_type": "display_data"
    }
   ],
   "source": [
    "#all values under trash sum to one category\n",
    "tresh = 10\n",
    "a = carrier_code_counts[carrier_code_counts <= tresh].sum()\n",
    "carrier_code_counts = carrier_code_counts[carrier_code_counts > tresh]\n",
    "\n",
    "#then add to filtered df\n",
    "carrier_code_counts.loc['another'] = a\n",
    "\n",
    "#last plot\n",
    "carrier_code_counts.plot(kind='bar')\n",
    "plt.title('CARRIER CODE')"
   ]
  },
  {
   "cell_type": "markdown",
   "metadata": {},
   "source": [
    "## 2.17 Carrier name"
   ]
  },
  {
   "cell_type": "code",
   "execution_count": 116,
   "metadata": {
    "collapsed": true
   },
   "outputs": [],
   "source": [
    "carrier_name = df_1['CARRIER NAME'].unique()"
   ]
  },
  {
   "cell_type": "code",
   "execution_count": 117,
   "metadata": {},
   "outputs": [
    {
     "data": {
      "text/plain": [
       "67"
      ]
     },
     "execution_count": 117,
     "metadata": {},
     "output_type": "execute_result"
    }
   ],
   "source": [
    "len(carrier_name)"
   ]
  },
  {
   "cell_type": "code",
   "execution_count": 118,
   "metadata": {
    "collapsed": true
   },
   "outputs": [],
   "source": [
    "carrier_name_counts = df_1['CARRIER NAME'].value_counts(normalize=False, sort=True, ascending=False, bins=None, dropna=True)"
   ]
  },
  {
   "cell_type": "code",
   "execution_count": 119,
   "metadata": {},
   "outputs": [
    {
     "data": {
      "text/plain": [
       "EXPEDITORS INTERNATIONAL OF WASHINGTON INC           1000\n",
       "NYK LINE (NIPPON YUSEN KAISHA)                        353\n",
       "APL CO PTE LTD-NOL GROUP                              322\n",
       "HAPAG LLOYD A G                                       189\n",
       "MAERSK LINE                                           112\n",
       "EVERGREEN LINE                                         45\n",
       "KAWASAKI KISEN KAISHA LTD                              29\n",
       "ORIENT OVERSEAS CONTAINER LINE LTD                     22\n",
       "HYUNDAI MERCHANT MARINE                                20\n",
       "SEABOARD MARINE LTD                                    18\n",
       "COMPAGNIE MARITIME D-AFFRETEMENT                       14\n",
       "HANJIN SHIPPING COMPANY LTD                            12\n",
       "SEAMASTER LOGISTICS INC                                12\n",
       "VIZION LOGISTICS LLC                                    9\n",
       "CHINA OCEAN SHIPPING COMPANY                            9\n",
       "HECNY SHIPPING LIMITED                                  9\n",
       "HANJIN LOGISTICS INC                                    9\n",
       "BLUE ANCHOR LINE                                        9\n",
       "EASTERN CONTAINER LINE                                  8\n",
       "CHINA SHIPPING CONTAINER LINES CO LTD                   8\n",
       "MSC-MEDITERRANEAN SHIPPING COMPANY S A                  8\n",
       "CHINA SHIPPING CONTAINER LINES (HONG KONG) CO LTD       7\n",
       "WORLDWIDE LOGISTICS CO LTD                              7\n",
       "SINO CONNECTIONS LOGISTICS LTD                          7\n",
       "TRIPLE EAGLE CONTAINER LINE LTD                         7\n",
       "TRANSWELL LOGISTICS CO LTD                              6\n",
       "WAN HAI LINES LTD                                       6\n",
       "EURASIA EXPRESS                                         5\n",
       "DE WELL CONTAINER SHIPPING CORP                         5\n",
       "CHRISTAL LINES                                          5\n",
       "                                                     ... \n",
       "STAR ASIA INTERNATIONAL INC                             3\n",
       "YANG MING MARINE TRANSPORT CORP                         3\n",
       "HONOUR LANE SHIPPING LTD                                3\n",
       "TOLL GLOBAL FORWARDING (HONG KONG) LIMITED              3\n",
       "PHOENIX INTERNATIONAL                                   2\n",
       "FEDEX TRADE NETWORKS TRANSPORT & BROKERAGE INC          2\n",
       "MEADOWS WYE & CO INC                                    2\n",
       "APEX LOGISTICS INTERNATIONAL INC                        2\n",
       "ANL SINGAPORE PTE LTD                                   2\n",
       "ECONOCARIBE CONSOLIDATORS INC                           1\n",
       "UNIQUE LOGISTICS INTERNATIONAL (H K) LTD                1\n",
       "AMERICAN ROLL-ON ROLL-OFF CARRIER LLC                   1\n",
       "TRANS ORIENT EXPRESS INC                                1\n",
       "TRANS KNIGHTS INC                                       1\n",
       "HIGH LINK LINE INC                                      1\n",
       "HENFORD SHIPPING LTD                                    1\n",
       "A-SONIC LOGISTICS (USA) INC                             1\n",
       "ZIM ISRAEL NAVIGATION CO LTD                            1\n",
       "WEIDA FREIGHT SYSTEM CO LTD                             1\n",
       "WORLDWIDE OCEAN LINE                                    1\n",
       "SCANWELL CONTAINER LINE LTD                             1\n",
       "ECU LINE                                                1\n",
       "SOVEREIGN CONTAINER LINE INC                            1\n",
       "MITSUI O S K LINES LTD                                  1\n",
       "TRIUMPH LINK LOGISTICS LTD                              1\n",
       "PACIFIC INTERNATIONAL LINES (PTE) LTD                   1\n",
       "CROWLEY LATIN AMERICA SERVICES LLC                      1\n",
       "NACA (VANGUARD LOGISTICS SERVICES)                      1\n",
       "FASTIC TRANSPORTATION CO LTD                            1\n",
       "DANMAR LINES LTD                                        1\n",
       "Name: CARRIER NAME, dtype: int64"
      ]
     },
     "execution_count": 119,
     "metadata": {},
     "output_type": "execute_result"
    }
   ],
   "source": [
    "carrier_name_counts"
   ]
  },
  {
   "cell_type": "code",
   "execution_count": 120,
   "metadata": {},
   "outputs": [
    {
     "data": {
      "text/plain": [
       "<matplotlib.text.Text at 0x1240b67d0>"
      ]
     },
     "execution_count": 120,
     "metadata": {},
     "output_type": "execute_result"
    },
    {
     "data": {
      "image/png": "[encoded data removed]",
      "text/plain": [
       "<matplotlib.figure.Figure at 0x123a7bf50>"
      ]
     },
     "metadata": {},
     "output_type": "display_data"
    }
   ],
   "source": [
    "#all values under trash sum to one category\n",
    "tresh = 10\n",
    "a = carrier_name_counts[carrier_name_counts <= tresh].sum()\n",
    "carrier_name_counts = carrier_name_counts[carrier_name_counts > tresh]\n",
    "\n",
    "#then add to filtered df\n",
    "carrier_name_counts.loc['another'] = a\n",
    "\n",
    "#last plot\n",
    "carrier_name_counts.plot(kind='bar')\n",
    "plt.title('CARRIER NAME')"
   ]
  },
  {
   "cell_type": "markdown",
   "metadata": {},
   "source": [
    "## 2.18 Place of receipt"
   ]
  },
  {
   "cell_type": "code",
   "execution_count": 121,
   "metadata": {
    "collapsed": true
   },
   "outputs": [],
   "source": [
    "place_receipt = df_1['PLACE OF RECEIPT'].unique()"
   ]
  },
  {
   "cell_type": "code",
   "execution_count": 122,
   "metadata": {},
   "outputs": [
    {
     "data": {
      "text/plain": [
       "88"
      ]
     },
     "execution_count": 122,
     "metadata": {},
     "output_type": "execute_result"
    }
   ],
   "source": [
    "len(place_receipt)"
   ]
  },
  {
   "cell_type": "code",
   "execution_count": 123,
   "metadata": {},
   "outputs": [
    {
     "data": {
      "text/plain": [
       "array([u'YANTIAN,GUANGDONG', u'XIAMEN, CHINA', u'NINGBO',\n",
       "       u'SHANGHAI, CHINA', u'SHANGHAI', u'CHITTAGONG', u'CHITTAGONG, BD',\n",
       "       u'CHENNAI', u'NING BO', u'LAT KRABANG', u'NINGBO,ZHEJIANG',\n",
       "       u'QINGDAO', u'YANTIAN, CHINA', u'MUHAMMAD BIN QASI', u'MUNDRA, IN',\n",
       "       u'NHAVA SHEVA, IN', u'JAKARTA, ID', u'CHENNAI, IN', u'PORT KLANG',\n",
       "       u'KEELUNG', u'TAOYUAN, TA', u'XIAMEN', u'TUTICORIN', u'YANTIAN',\n",
       "       u'HONG KONG', u'KARACHI PAKISTAN', u'YANTIAN DISTRIC', u'CN',\n",
       "       u'YANTIAN, CN', u'FUZHOU CN', u'FUZHOU, CHINA', u'KAOHSIUNG',\n",
       "       u'YANTIAN GD', u'KARACHI', u'NANSHA', u'YANTIAN, PC', u'XIAMEN CN',\n",
       "       u'JIANGYIN, FUQING', u'JIEYANG', u'SEMARANG', u'XIAMEN, CN',\n",
       "       u'QINGDAO,CHINA', u'HO CHI MINH CITY', u'PORT QASIM',\n",
       "       u'JAWAHARLAL NEHRU', u'DA CHAN BAY, CN', u'HONG KONG, HK',\n",
       "       u'PORT QASIM, PAKIS', u'BAHRAIN', u'YANGSHAN, PC',\n",
       "       u'CHENNAI, INDIA', u'ZHANGJIAGANG, JIA', u'TAICHUNG',\n",
       "       u'DALIAN, CHINA', u'DALIAN', u'CHITTAGONG, BA', u'NINGBO, CHINA',\n",
       "       u'HUANGPU, GUANGDON', u'SHANGHAI,SH,CN', u'SHANGHAI,CHINA',\n",
       "       u'XIAMEN, FUJIAN', u'SHANGHAI CITY', u'STO TOMAS D/CASTI',\n",
       "       u'COLOMBO, SR', u'LOS ANGELES', u'HO CHI MINH - CAT',\n",
       "       u'YANTIAN, SHENZHEN', nan, u'HAI PHONG CITY, N', u'GUATEMALA',\n",
       "       u'KAOHSIUNG, CHINA(', u'GUATEMALA CITY', u'XIAMEN,CHINA',\n",
       "       u'SHENZHEN', u'PHNOM PENH', u'KAOHSIUNG, TAIWAN', u'TIPITAPA, NI',\n",
       "       u'COCHIN, IN', u'CHENNAI (FORMERLY', u'MANILA',\n",
       "       u'NINGBO PORT, CHIN', u'SALALAH', u'YANTIAN,CHINA',\n",
       "       u'BREMERHAVEN, GERM', u'YANTIAN - CY', u'NINGBO, PC',\n",
       "       u'NHAVA SHEVA', u'KEAMARI, KARACHI'], dtype=object)"
      ]
     },
     "execution_count": 123,
     "metadata": {},
     "output_type": "execute_result"
    }
   ],
   "source": [
    "place_receipt"
   ]
  },
  {
   "cell_type": "code",
   "execution_count": 124,
   "metadata": {
    "collapsed": true
   },
   "outputs": [],
   "source": [
    "place_receipt_counts = df_1['PLACE OF RECEIPT'].value_counts(normalize=False, sort=True, ascending=False, bins=None, dropna=True)"
   ]
  },
  {
   "cell_type": "code",
   "execution_count": 125,
   "metadata": {},
   "outputs": [
    {
     "data": {
      "text/plain": [
       "CHENNAI (FORMERLY    950\n",
       "CHENNAI, IN          266\n",
       "CHENNAI              208\n",
       "CHITTAGONG           133\n",
       "YANTIAN               88\n",
       "CHITTAGONG, BD        84\n",
       "XIAMEN                83\n",
       "SHANGHAI              56\n",
       "CHITTAGONG, BA        43\n",
       "MUHAMMAD BIN QASI     39\n",
       "NHAVA SHEVA, IN       33\n",
       "NINGBO                32\n",
       "PORT QASIM            31\n",
       "BAHRAIN               18\n",
       "MUNDRA, IN            17\n",
       "KAOHSIUNG             17\n",
       "CHENNAI, INDIA        16\n",
       "SALALAH               15\n",
       "XIAMEN, CHINA         14\n",
       "GUATEMALA CITY        14\n",
       "YANTIAN, CHINA        13\n",
       "HONG KONG             13\n",
       "KARACHI                9\n",
       "HONG KONG, HK          8\n",
       "NINGBO, CHINA          8\n",
       "NINGBO,ZHEJIANG        8\n",
       "XIAMEN, FUJIAN         8\n",
       "SHANGHAI, CHINA        7\n",
       "YANTIAN, CN            7\n",
       "XIAMEN,CHINA           7\n",
       "                    ... \n",
       "KEAMARI, KARACHI       2\n",
       "YANTIAN, PC            2\n",
       "YANTIAN GD             2\n",
       "GUATEMALA              1\n",
       "QINGDAO                1\n",
       "JIANGYIN, FUQING       1\n",
       "NINGBO, PC             1\n",
       "DALIAN                 1\n",
       "YANTIAN, SHENZHEN      1\n",
       "KAOHSIUNG, TAIWAN      1\n",
       "JAKARTA, ID            1\n",
       "JAWAHARLAL NEHRU       1\n",
       "DA CHAN BAY, CN        1\n",
       "XIAMEN, CN             1\n",
       "PORT QASIM, PAKIS      1\n",
       "HO CHI MINH - CAT      1\n",
       "JIEYANG                1\n",
       "KARACHI PAKISTAN       1\n",
       "XIAMEN CN              1\n",
       "LOS ANGELES            1\n",
       "DALIAN, CHINA          1\n",
       "YANTIAN - CY           1\n",
       "TIPITAPA, NI           1\n",
       "KAOHSIUNG, CHINA(      1\n",
       "HAI PHONG CITY, N      1\n",
       "YANGSHAN, PC           1\n",
       "BREMERHAVEN, GERM      1\n",
       "SHANGHAI,CHINA         1\n",
       "COCHIN, IN             1\n",
       "NHAVA SHEVA            1\n",
       "Name: PLACE OF RECEIPT, dtype: int64"
      ]
     },
     "execution_count": 125,
     "metadata": {},
     "output_type": "execute_result"
    }
   ],
   "source": [
    "place_receipt_counts"
   ]
  },
  {
   "cell_type": "code",
   "execution_count": 126,
   "metadata": {},
   "outputs": [
    {
     "data": {
      "text/plain": [
       "<matplotlib.text.Text at 0x124345b10>"
      ]
     },
     "execution_count": 126,
     "metadata": {},
     "output_type": "execute_result"
    },
    {
     "data": {
      "image/png": "[encoded data removed]",
      "text/plain": [
       "<matplotlib.figure.Figure at 0x123d98b10>"
      ]
     },
     "metadata": {},
     "output_type": "display_data"
    }
   ],
   "source": [
    "#all values under trash sum to one category\n",
    "tresh = 10\n",
    "a = place_receipt_counts[place_receipt_counts <= tresh].sum()\n",
    "place_receipt_counts = place_receipt_counts[place_receipt_counts > tresh]\n",
    "\n",
    "#then add to filtered df\n",
    "place_receipt_counts.loc['another'] = a\n",
    "\n",
    "#last plot\n",
    "place_receipt_counts.plot(kind='bar')\n",
    "plt.title('PLACE OF RECEIPT')"
   ]
  },
  {
   "cell_type": "markdown",
   "metadata": {},
   "source": [
    "# 3 Time series plots"
   ]
  },
  {
   "cell_type": "markdown",
   "metadata": {},
   "source": [
    "## 3.1 Sort by arrival date"
   ]
  },
  {
   "cell_type": "code",
   "execution_count": 127,
   "metadata": {
    "collapsed": true
   },
   "outputs": [],
   "source": [
    "df_1['ARRIVAL DATE DT'] = pd.to_datetime(df_1['ARRIVAL DATE'])\n",
    "df_2 = df_1.sort_values(by='ARRIVAL DATE DT')"
   ]
  },
  {
   "cell_type": "markdown",
   "metadata": {},
   "source": [
    "## 3.2 Weight"
   ]
  },
  {
   "cell_type": "code",
   "execution_count": 128,
   "metadata": {},
   "outputs": [
    {
     "data": {
      "text/plain": [
       "<matplotlib.text.Text at 0x12447da10>"
      ]
     },
     "execution_count": 128,
     "metadata": {},
     "output_type": "execute_result"
    },
    {
     "data": {
      "image/png": "[encoded data removed]",
      "text/plain": [
       "<matplotlib.figure.Figure at 0x123b6cb10>"
      ]
     },
     "metadata": {},
     "output_type": "display_data"
    }
   ],
   "source": [
    "plt.plot(df_2['ARRIVAL DATE DT'], df_2['WEIGHT (KG)']/1000)\n",
    "plt.title('WEIGHT (TON)')"
   ]
  },
  {
   "cell_type": "markdown",
   "metadata": {},
   "source": [
    "## 3.3 Quantity"
   ]
  },
  {
   "cell_type": "code",
   "execution_count": 129,
   "metadata": {},
   "outputs": [
    {
     "data": {
      "text/plain": [
       "<matplotlib.text.Text at 0x124610d10>"
      ]
     },
     "execution_count": 129,
     "metadata": {},
     "output_type": "execute_result"
    },
    {
     "data": {
      "image/png": "[encoded data removed]",
      "text/plain": [
       "<matplotlib.figure.Figure at 0x124531810>"
      ]
     },
     "metadata": {},
     "output_type": "display_data"
    }
   ],
   "source": [
    "plt.plot(df_2['ARRIVAL DATE DT'], df_2['QUANTITY'])\n",
    "plt.title('QUANTITY')"
   ]
  },
  {
   "cell_type": "markdown",
   "metadata": {},
   "source": [
    "## 3.4 Measurement"
   ]
  },
  {
   "cell_type": "code",
   "execution_count": 130,
   "metadata": {},
   "outputs": [
    {
     "data": {
      "text/plain": [
       "<matplotlib.text.Text at 0x1247a1bd0>"
      ]
     },
     "execution_count": 130,
     "metadata": {},
     "output_type": "execute_result"
    },
    {
     "data": {
      "image/png": "[encoded data removed]",
      "text/plain": [
       "<matplotlib.figure.Figure at 0x1246c7610>"
      ]
     },
     "metadata": {},
     "output_type": "display_data"
    }
   ],
   "source": [
    "plt.plot(df_2['ARRIVAL DATE DT'], df_2['MEASUREMENT'])\n",
    "plt.title('MEASUREMENT')"
   ]
  },
  {
   "cell_type": "markdown",
   "metadata": {},
   "source": [
    "## 3.5 Container count"
   ]
  },
  {
   "cell_type": "code",
   "execution_count": 131,
   "metadata": {},
   "outputs": [
    {
     "data": {
      "text/plain": [
       "<matplotlib.text.Text at 0x1258af110>"
      ]
     },
     "execution_count": 131,
     "metadata": {},
     "output_type": "execute_result"
    },
    {
     "data": {
      "image/png": "[encoded data removed]",
      "text/plain": [
       "<matplotlib.figure.Figure at 0x1247a1490>"
      ]
     },
     "metadata": {},
     "output_type": "display_data"
    }
   ],
   "source": [
    "plt.plot(df_2['ARRIVAL DATE DT'], df_2['CONTAINER COUNT'])\n",
    "plt.title('CONTAINER COUNT')"
   ]
  },
  {
   "cell_type": "markdown",
   "metadata": {},
   "source": [
    "## 3.5 Correlation between weight and container count"
   ]
  },
  {
   "cell_type": "code",
   "execution_count": 132,
   "metadata": {},
   "outputs": [
    {
     "data": {
      "text/plain": [
       "0.8981227061347542"
      ]
     },
     "execution_count": 132,
     "metadata": {},
     "output_type": "execute_result"
    }
   ],
   "source": [
    "df_2['WEIGHT (KG)'].corr(df_2['CONTAINER COUNT'])\n"
   ]
  },
  {
   "cell_type": "code",
   "execution_count": 133,
   "metadata": {},
   "outputs": [
    {
     "data": {
      "text/plain": [
       "<matplotlib.text.Text at 0x125be3dd0>"
      ]
     },
     "execution_count": 133,
     "metadata": {},
     "output_type": "execute_result"
    },
    {
     "data": {
      "image/png": "[encoded data removed]",
      "text/plain": [
       "<matplotlib.figure.Figure at 0x1246c7ad0>"
      ]
     },
     "metadata": {},
     "output_type": "display_data"
    }
   ],
   "source": [
    "plt.plot(df_2['ARRIVAL DATE DT'], df_2['CONTAINER COUNT'], label = 'Container count')\n",
    "plt.plot(df_2['ARRIVAL DATE DT'], df_2['WEIGHT (KG)']/1000, color = 'red', label = 'Weight (Ton)')\n",
    "plt.title('CONTAINER COUNT')"
   ]
  },
  {
   "cell_type": "markdown",
   "metadata": {},
   "source": [
    "# 4 Things we can work with"
   ]
  },
  {
   "cell_type": "code",
   "execution_count": 134,
   "metadata": {
    "collapsed": true
   },
   "outputs": [],
   "source": [
    "arrival_dates = df_1['ARRIVAL DATE'].unique()"
   ]
  },
  {
   "cell_type": "code",
   "execution_count": 135,
   "metadata": {
    "collapsed": true
   },
   "outputs": [],
   "source": [
    "weight = df_1['WEIGHT (KG)'].unique()"
   ]
  },
  {
   "cell_type": "code",
   "execution_count": 136,
   "metadata": {
    "collapsed": true
   },
   "outputs": [],
   "source": [
    "foreign_port = df_1['FOREIGN PORT'].unique()"
   ]
  },
  {
   "cell_type": "code",
   "execution_count": 137,
   "metadata": {
    "collapsed": true
   },
   "outputs": [],
   "source": [
    "us_port = df_1['US PORT'].unique()"
   ]
  },
  {
   "cell_type": "code",
   "execution_count": 138,
   "metadata": {
    "collapsed": true
   },
   "outputs": [],
   "source": [
    "quantity = df_1['QUANTITY'].unique()"
   ]
  },
  {
   "cell_type": "code",
   "execution_count": 139,
   "metadata": {
    "collapsed": true
   },
   "outputs": [],
   "source": [
    "quantity_unit = df_1['Q.UNIT'].unique()"
   ]
  },
  {
   "cell_type": "code",
   "execution_count": 140,
   "metadata": {
    "collapsed": true
   },
   "outputs": [],
   "source": [
    "measurement = df_1['MEASUREMENT'].unique()"
   ]
  },
  {
   "cell_type": "code",
   "execution_count": 141,
   "metadata": {
    "collapsed": true
   },
   "outputs": [],
   "source": [
    "ship_registration = df_1['SHIP REGISTERED IN'].unique()"
   ]
  },
  {
   "cell_type": "code",
   "execution_count": 142,
   "metadata": {
    "collapsed": true
   },
   "outputs": [],
   "source": [
    "vessel_name = df_1['VESSEL NAME'].unique()"
   ]
  },
  {
   "cell_type": "code",
   "execution_count": 143,
   "metadata": {
    "collapsed": true
   },
   "outputs": [],
   "source": [
    "container_number = df_1['CONTAINER NUMBER'].unique()"
   ]
  },
  {
   "cell_type": "code",
   "execution_count": 144,
   "metadata": {
    "collapsed": true
   },
   "outputs": [],
   "source": [
    "container_count = df_1['CONTAINER COUNT'].unique()"
   ]
  },
  {
   "cell_type": "code",
   "execution_count": 145,
   "metadata": {
    "collapsed": true
   },
   "outputs": [],
   "source": [
    "product_details = df_1['PRODUCT DETAILS'].unique()"
   ]
  },
  {
   "cell_type": "code",
   "execution_count": 146,
   "metadata": {
    "collapsed": true
   },
   "outputs": [],
   "source": [
    "country_origin = df_1['COUNTRY OF ORIGIN'].unique()"
   ]
  },
  {
   "cell_type": "code",
   "execution_count": 147,
   "metadata": {
    "collapsed": true
   },
   "outputs": [],
   "source": [
    "carrier_code = df_1['CARRIER CODE'].unique()"
   ]
  },
  {
   "cell_type": "code",
   "execution_count": 148,
   "metadata": {
    "collapsed": true
   },
   "outputs": [],
   "source": [
    "carrier_name = df_1['CARRIER NAME'].unique()"
   ]
  },
  {
   "cell_type": "code",
   "execution_count": 149,
   "metadata": {
    "collapsed": true
   },
   "outputs": [],
   "source": [
    "place_receipt = df_1['PLACE OF RECEIPT'].unique()"
   ]
  },
  {
   "cell_type": "code",
   "execution_count": null,
   "metadata": {
    "collapsed": true
   },
   "outputs": [],
   "source": []
  }
 ],
 "metadata": {
  "kernelspec": {
   "display_name": "Python 3",
   "language": "python",
   "name": "python3"
  },
  "language_info": {
   "codemirror_mode": {
    "name": "ipython",
    "version": 3
   },
   "file_extension": ".py",
   "mimetype": "text/x-python",
   "name": "python",
   "nbconvert_exporter": "python",
   "pygments_lexer": "ipython3",
   "version": "3.6.3"
  }
 },
 "nbformat": 4,
 "nbformat_minor": 1
}
